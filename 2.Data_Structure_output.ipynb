{
  "nbformat": 4,
  "nbformat_minor": 5,
  "metadata": {
    "kernelspec": {
      "display_name": "Python 3",
      "language": "python",
      "name": "python3"
    },
    "language_info": {
      "codemirror_mode": {
        "name": "ipython",
        "version": 3
      },
      "file_extension": ".py",
      "mimetype": "text/x-python",
      "name": "python",
      "nbconvert_exporter": "python",
      "pygments_lexer": "ipython3",
      "version": "3.8.5"
    },
    "colab": {
      "name": "Data Structure.ipynb",
      "provenance": [],
      "collapsed_sections": []
    }
  },
  "cells": [
    {
      "cell_type": "markdown",
      "metadata": {
        "id": "2v_ptIGwiX6c"
      },
      "source": [
        "# <center> <u>Data Structures <u> </center>"
      ],
      "id": "2v_ptIGwiX6c"
    },
    {
      "cell_type": "markdown",
      "metadata": {
        "id": "iJ0qWnpBiX6m"
      },
      "source": [
        "## 1. Lists\n",
        "\n",
        "Reference:- https://www.youtube.com/watch?v=ohCDWZgNIU0\n"
      ],
      "id": "iJ0qWnpBiX6m"
    },
    {
      "cell_type": "markdown",
      "metadata": {
        "id": "fMz5XpsTiX7O"
      },
      "source": [
        "<p style='text-align: right;'> 1+1+1 = 3 points</p>\n"
      ],
      "id": "fMz5XpsTiX7O"
    },
    {
      "cell_type": "markdown",
      "metadata": {
        "id": "3oXQLBRdiX7Q"
      },
      "source": [
        "#### 1.1 Create an empty list with the name ‘a’, print the value of a and type(a).\n"
      ],
      "id": "3oXQLBRdiX7Q"
    },
    {
      "cell_type": "code",
      "metadata": {
        "id": "gYKWNk4ViX7U"
      },
      "source": [
        "# create empty list, name it 'a'\n",
        "\n",
        "a = []"
      ],
      "id": "gYKWNk4ViX7U",
      "execution_count": null,
      "outputs": []
    },
    {
      "cell_type": "code",
      "metadata": {
        "colab": {
          "base_uri": "https://localhost:8080/"
        },
        "id": "N_FZ96xdiX7W",
        "outputId": "b87aefba-19e6-41ea-be9e-f287262fab3d"
      },
      "source": [
        "# print the value of a\n",
        "\n",
        "a"
      ],
      "id": "N_FZ96xdiX7W",
      "execution_count": null,
      "outputs": [
        {
          "output_type": "execute_result",
          "data": {
            "text/plain": [
              "[]"
            ]
          },
          "metadata": {
            "tags": []
          },
          "execution_count": 3
        }
      ]
    },
    {
      "cell_type": "code",
      "metadata": {
        "colab": {
          "base_uri": "https://localhost:8080/"
        },
        "id": "STY7ZY9ziX7c",
        "outputId": "5ad3acd4-3c80-4cd1-f100-51759fc08163"
      },
      "source": [
        "# print the type of a\n",
        "type(a)\n"
      ],
      "id": "STY7ZY9ziX7c",
      "execution_count": null,
      "outputs": [
        {
          "output_type": "execute_result",
          "data": {
            "text/plain": [
              "list"
            ]
          },
          "metadata": {
            "tags": []
          },
          "execution_count": 4
        }
      ]
    },
    {
      "cell_type": "markdown",
      "metadata": {
        "id": "JWYUNiIkiX7f"
      },
      "source": [
        "#### 1.2.Create a list , languages = ['R','Python', 'SAS', 'Scala', 42], "
      ],
      "id": "JWYUNiIkiX7f"
    },
    {
      "cell_type": "markdown",
      "metadata": {
        "id": "Sf4gK5pviX7h"
      },
      "source": [
        "<p style='text-align: right;'> 1+1+1+1+1+1+1+1 = 7 points</p>\n"
      ],
      "id": "Sf4gK5pviX7h"
    },
    {
      "cell_type": "code",
      "metadata": {
        "id": "HE2ZXhWriX7m"
      },
      "source": [
        "#code here\n",
        "languages = ['R','Python', 'SAS', 'Scala', 42]"
      ],
      "id": "HE2ZXhWriX7m",
      "execution_count": null,
      "outputs": []
    },
    {
      "cell_type": "markdown",
      "metadata": {
        "id": "Lo1mQCxfiX7o"
      },
      "source": [
        "Print the number of elements in the list"
      ],
      "id": "Lo1mQCxfiX7o"
    },
    {
      "cell_type": "code",
      "metadata": {
        "colab": {
          "base_uri": "https://localhost:8080/"
        },
        "id": "0_ZRH8cUiX7p",
        "outputId": "eb831490-7e29-4e4b-e38f-850706c5cde6"
      },
      "source": [
        "#code here\n",
        "print(len(languages))\n"
      ],
      "id": "0_ZRH8cUiX7p",
      "execution_count": null,
      "outputs": [
        {
          "output_type": "stream",
          "text": [
            "5\n"
          ],
          "name": "stdout"
        }
      ]
    },
    {
      "cell_type": "markdown",
      "metadata": {
        "id": "QgWo90zOiX8O"
      },
      "source": [
        "\n",
        "Using for loop iterate and print all the elements in the list"
      ],
      "id": "QgWo90zOiX8O"
    },
    {
      "cell_type": "code",
      "metadata": {
        "colab": {
          "base_uri": "https://localhost:8080/"
        },
        "id": "T56glkKAiX8Q",
        "outputId": "4f4654aa-5f76-42a6-9f83-0b9b5f26473c"
      },
      "source": [
        "#code here\n",
        "\n",
        "for item in languages:\n",
        "  print(item)"
      ],
      "id": "T56glkKAiX8Q",
      "execution_count": null,
      "outputs": [
        {
          "output_type": "stream",
          "text": [
            "R\n",
            "Python\n",
            "SAS\n",
            "Scala\n",
            "42\n"
          ],
          "name": "stdout"
        }
      ]
    },
    {
      "cell_type": "markdown",
      "metadata": {
        "id": "CfXi1pgriX8S"
      },
      "source": [
        "Select the second item, 'Python' and store it in a new variable named 'temp'"
      ],
      "id": "CfXi1pgriX8S"
    },
    {
      "cell_type": "code",
      "metadata": {
        "id": "N2Tx25Z1iX8T"
      },
      "source": [
        "#code here\n",
        "temp = languages[1]"
      ],
      "id": "N2Tx25Z1iX8T",
      "execution_count": null,
      "outputs": []
    },
    {
      "cell_type": "markdown",
      "metadata": {
        "id": "kEyxsTtKiX8V"
      },
      "source": [
        "Print the value of temp and type(temp)"
      ],
      "id": "kEyxsTtKiX8V"
    },
    {
      "cell_type": "code",
      "metadata": {
        "colab": {
          "base_uri": "https://localhost:8080/"
        },
        "id": "kpogtyi3iX8W",
        "outputId": "72d97a06-780d-49a2-8da7-68c102d9358c"
      },
      "source": [
        "#code here\n",
        "print(temp)\n",
        "type(temp)\n"
      ],
      "id": "kpogtyi3iX8W",
      "execution_count": null,
      "outputs": [
        {
          "output_type": "stream",
          "text": [
            "Python\n"
          ],
          "name": "stdout"
        },
        {
          "output_type": "execute_result",
          "data": {
            "text/plain": [
              "str"
            ]
          },
          "metadata": {
            "tags": []
          },
          "execution_count": 14
        }
      ]
    },
    {
      "cell_type": "markdown",
      "metadata": {
        "id": "HL3gGF2ViX8X"
      },
      "source": [
        "Using list comprehension, print the last two elemets of list"
      ],
      "id": "HL3gGF2ViX8X"
    },
    {
      "cell_type": "code",
      "metadata": {
        "colab": {
          "base_uri": "https://localhost:8080/"
        },
        "id": "syWun8NYiX8Y",
        "outputId": "190df6e5-ca90-43c2-b0e1-d6bdcf3ebb26"
      },
      "source": [
        "# code here\n",
        "languages[-2::]"
      ],
      "id": "syWun8NYiX8Y",
      "execution_count": null,
      "outputs": [
        {
          "output_type": "execute_result",
          "data": {
            "text/plain": [
              "['Scala', 42]"
            ]
          },
          "metadata": {
            "tags": []
          },
          "execution_count": 17
        }
      ]
    },
    {
      "cell_type": "markdown",
      "metadata": {
        "id": "6epqvABRiX8a"
      },
      "source": [
        "Append the element 'Java' in the list"
      ],
      "id": "6epqvABRiX8a"
    },
    {
      "cell_type": "code",
      "metadata": {
        "id": "D-BGTU-4iX8b"
      },
      "source": [
        "#code here\n",
        "languages.append(\"Java\")"
      ],
      "id": "D-BGTU-4iX8b",
      "execution_count": null,
      "outputs": []
    },
    {
      "cell_type": "markdown",
      "metadata": {
        "id": "DL-0DjkXiX8d"
      },
      "source": [
        "Remove the element 42 from the list and print the list"
      ],
      "id": "DL-0DjkXiX8d"
    },
    {
      "cell_type": "code",
      "metadata": {
        "colab": {
          "base_uri": "https://localhost:8080/"
        },
        "id": "kyjFIrG1iX8e",
        "outputId": "daf05189-d0ec-4490-f8c3-ea3da6a82c5e"
      },
      "source": [
        "#code here\n",
        "languages.remove(42)\n",
        "languages"
      ],
      "id": "kyjFIrG1iX8e",
      "execution_count": null,
      "outputs": [
        {
          "output_type": "execute_result",
          "data": {
            "text/plain": [
              "['R', 'Python', 'SAS', 'Scala', 'Java']"
            ]
          },
          "metadata": {
            "tags": []
          },
          "execution_count": 23
        }
      ]
    },
    {
      "cell_type": "markdown",
      "metadata": {
        "id": "W-3a1vd4iX8f"
      },
      "source": [
        "#### 1.3. Create a list, colors = [‘Red’, ‘Blue’, ‘White’]"
      ],
      "id": "W-3a1vd4iX8f"
    },
    {
      "cell_type": "markdown",
      "metadata": {
        "id": "1L6PPJbciX8g"
      },
      "source": [
        "<p style='text-align: right;'> 1+1+1+1+1+1+1 = 6 points</p>\n"
      ],
      "id": "1L6PPJbciX8g"
    },
    {
      "cell_type": "code",
      "metadata": {
        "id": "gzPXY1j5iX8h"
      },
      "source": [
        "#code here\n",
        "colors = ['Red', 'Blue', 'White']"
      ],
      "id": "gzPXY1j5iX8h",
      "execution_count": null,
      "outputs": []
    },
    {
      "cell_type": "markdown",
      "metadata": {
        "id": "QdvrmUmfiX8i"
      },
      "source": [
        "Append the element 'Black' to colors"
      ],
      "id": "QdvrmUmfiX8i"
    },
    {
      "cell_type": "code",
      "metadata": {
        "colab": {
          "base_uri": "https://localhost:8080/"
        },
        "id": "UNXZB4xriX8j",
        "outputId": "bd4a71dc-e515-4b3b-e164-e1b57643f6c5"
      },
      "source": [
        "#code here\n",
        "colors.insert(1,'Orange')\n",
        "print(colors)\n"
      ],
      "id": "UNXZB4xriX8j",
      "execution_count": null,
      "outputs": [
        {
          "output_type": "stream",
          "text": [
            "['Red', 'Orange', 'Blue', 'White']\n"
          ],
          "name": "stdout"
        }
      ]
    },
    {
      "cell_type": "markdown",
      "metadata": {
        "id": "Gu9atsV2iX8k"
      },
      "source": [
        "Append the color 'Orange' to second position (index=1) and print the list"
      ],
      "id": "Gu9atsV2iX8k"
    },
    {
      "cell_type": "code",
      "metadata": {
        "id": "gOyIVSJjiX8k"
      },
      "source": [
        "# code here\n",
        "colors.append('Black')"
      ],
      "id": "gOyIVSJjiX8k",
      "execution_count": null,
      "outputs": []
    },
    {
      "cell_type": "markdown",
      "metadata": {
        "id": "GmKkY9aviX8n"
      },
      "source": [
        "Print the list\n"
      ],
      "id": "GmKkY9aviX8n"
    },
    {
      "cell_type": "code",
      "metadata": {
        "colab": {
          "base_uri": "https://localhost:8080/"
        },
        "id": "b2lnV2F2iX8p",
        "outputId": "a7188fd0-078b-44f3-cc5d-86d904a9ea1c"
      },
      "source": [
        "# code here\n",
        "colors"
      ],
      "id": "b2lnV2F2iX8p",
      "execution_count": null,
      "outputs": [
        {
          "output_type": "execute_result",
          "data": {
            "text/plain": [
              "['Red', 'Orange', 'Blue', 'White', 'Black']"
            ]
          },
          "metadata": {
            "tags": []
          },
          "execution_count": 27
        }
      ]
    },
    {
      "cell_type": "markdown",
      "metadata": {
        "id": "zg76aNvAiX8q"
      },
      "source": [
        "Create another list, colors2 = [‘Grey’, ‘Sky Blue’]"
      ],
      "id": "zg76aNvAiX8q"
    },
    {
      "cell_type": "code",
      "metadata": {
        "id": "5vl3m3nfiX8r"
      },
      "source": [
        "# code \n",
        "colors2 = ['Grey', 'Sky Blue']\n"
      ],
      "id": "5vl3m3nfiX8r",
      "execution_count": null,
      "outputs": []
    },
    {
      "cell_type": "markdown",
      "metadata": {
        "id": "VHkIkjwHiX8s"
      },
      "source": [
        "Add the elements of colors2 to colors using extend function in the list"
      ],
      "id": "VHkIkjwHiX8s"
    },
    {
      "cell_type": "code",
      "metadata": {
        "id": "luiqIG5liX8t"
      },
      "source": [
        "#code here\n",
        "colors.extend(colors2)"
      ],
      "id": "luiqIG5liX8t",
      "execution_count": null,
      "outputs": []
    },
    {
      "cell_type": "markdown",
      "metadata": {
        "id": "tlcXMyI-iX8t"
      },
      "source": [
        "Print len of colors and its elements"
      ],
      "id": "tlcXMyI-iX8t"
    },
    {
      "cell_type": "code",
      "metadata": {
        "colab": {
          "base_uri": "https://localhost:8080/"
        },
        "id": "06_5Udv1iX8u",
        "outputId": "ff271645-2de2-4bd5-c68a-bdb681f2a065"
      },
      "source": [
        "# code here\n",
        "print(len(colors))\n",
        "print(colors)\n"
      ],
      "id": "06_5Udv1iX8u",
      "execution_count": null,
      "outputs": [
        {
          "output_type": "stream",
          "text": [
            "7\n",
            "['Red', 'Orange', 'Blue', 'White', 'Black', 'Grey', 'Sky Blue']\n"
          ],
          "name": "stdout"
        }
      ]
    },
    {
      "cell_type": "markdown",
      "metadata": {
        "id": "WJ8n95CEiX8w"
      },
      "source": [
        "Sort the list and print it."
      ],
      "id": "WJ8n95CEiX8w"
    },
    {
      "cell_type": "code",
      "metadata": {
        "colab": {
          "base_uri": "https://localhost:8080/"
        },
        "id": "B9RxzhTbiX9R",
        "outputId": "f04312ca-8ae4-45d4-d18a-a24cf2fc845e"
      },
      "source": [
        "# code here\n",
        "colors.sort()\n",
        "colors"
      ],
      "id": "B9RxzhTbiX9R",
      "execution_count": null,
      "outputs": [
        {
          "output_type": "execute_result",
          "data": {
            "text/plain": [
              "['Black', 'Blue', 'Grey', 'Orange', 'Red', 'Sky Blue', 'White']"
            ]
          },
          "metadata": {
            "tags": []
          },
          "execution_count": 32
        }
      ]
    },
    {
      "cell_type": "markdown",
      "metadata": {
        "id": "M_RI_1MZiX9T"
      },
      "source": [
        "#### 1.4. Create a string, sent = ‘Coronavirus Caused Lockdowns Around The World.”"
      ],
      "id": "M_RI_1MZiX9T"
    },
    {
      "cell_type": "markdown",
      "metadata": {
        "id": "M5L551Q6iX9U"
      },
      "source": [
        "<p style='text-align: right;'> 7 points</p>\n"
      ],
      "id": "M5L551Q6iX9U"
    },
    {
      "cell_type": "code",
      "metadata": {
        "id": "22danbn_iX9U"
      },
      "source": [
        "# code here\n",
        "sent = 'Coronavirus Caused Lockdowns Around The World.'"
      ],
      "id": "22danbn_iX9U",
      "execution_count": null,
      "outputs": []
    },
    {
      "cell_type": "markdown",
      "metadata": {
        "id": "1Vq0kxqKiX9V"
      },
      "source": [
        "Use split function to convert the string into a list of words and save it in variable words and print the same"
      ],
      "id": "1Vq0kxqKiX9V"
    },
    {
      "cell_type": "code",
      "metadata": {
        "colab": {
          "base_uri": "https://localhost:8080/"
        },
        "id": "is-XRb5GiX9V",
        "outputId": "5aa249dc-11ad-4b31-b9f0-c0934cda710b"
      },
      "source": [
        "# code here\n",
        "sent.split()"
      ],
      "id": "is-XRb5GiX9V",
      "execution_count": null,
      "outputs": [
        {
          "output_type": "execute_result",
          "data": {
            "text/plain": [
              "['Coronavirus', 'Caused', 'Lockdowns', 'Around', 'The', 'World.']"
            ]
          },
          "metadata": {
            "tags": []
          },
          "execution_count": 34
        }
      ]
    },
    {
      "cell_type": "markdown",
      "metadata": {
        "id": "7Iqu2HH_iX9W"
      },
      "source": [
        "Using list comprehensions, convert each word in the list to lower case and store it in variable words_lower. \n",
        "Print words_lower"
      ],
      "id": "7Iqu2HH_iX9W"
    },
    {
      "cell_type": "code",
      "metadata": {
        "colab": {
          "base_uri": "https://localhost:8080/"
        },
        "id": "L1LUD2NpiX9X",
        "outputId": "4d276cce-2e90-41b1-cb87-cb545145efc0"
      },
      "source": [
        "# code here\n",
        "words_lower = [word.lower() for word in sent.split(' ')]\n",
        "words_lower"
      ],
      "id": "L1LUD2NpiX9X",
      "execution_count": null,
      "outputs": [
        {
          "output_type": "execute_result",
          "data": {
            "text/plain": [
              "['coronavirus', 'caused', 'lockdowns', 'around', 'the', 'world.']"
            ]
          },
          "metadata": {
            "tags": []
          },
          "execution_count": 38
        }
      ]
    },
    {
      "cell_type": "markdown",
      "metadata": {
        "id": "YnwMIXdHiX9Z"
      },
      "source": [
        "Check whether ‘country’ is in the list"
      ],
      "id": "YnwMIXdHiX9Z"
    },
    {
      "cell_type": "code",
      "metadata": {
        "colab": {
          "base_uri": "https://localhost:8080/"
        },
        "id": "qBKBkfjoiX9a",
        "outputId": "1ee579c5-0cd1-466b-8a3a-08a0a02a92f0"
      },
      "source": [
        "# code here\n",
        "'country' in words_lower"
      ],
      "id": "qBKBkfjoiX9a",
      "execution_count": null,
      "outputs": [
        {
          "output_type": "execute_result",
          "data": {
            "text/plain": [
              "False"
            ]
          },
          "metadata": {
            "tags": []
          },
          "execution_count": 52
        }
      ]
    },
    {
      "cell_type": "markdown",
      "metadata": {
        "id": "balp7AQPiX9b"
      },
      "source": [
        "Remove the element ‘the’ from the list and print the list."
      ],
      "id": "balp7AQPiX9b"
    },
    {
      "cell_type": "code",
      "metadata": {
        "colab": {
          "base_uri": "https://localhost:8080/"
        },
        "id": "6BzuwYC0iX9c",
        "outputId": "92823343-d1c1-4810-f946-fcec2fba59b8"
      },
      "source": [
        "# code here\n",
        "words_lower.remove('the')\n",
        "words_lower"
      ],
      "id": "6BzuwYC0iX9c",
      "execution_count": null,
      "outputs": [
        {
          "output_type": "execute_result",
          "data": {
            "text/plain": [
              "['coronavirus', 'caused', 'lockdowns', 'around', 'world.']"
            ]
          },
          "metadata": {
            "tags": []
          },
          "execution_count": 53
        }
      ]
    },
    {
      "cell_type": "markdown",
      "metadata": {
        "id": "18hg-VVViX9c"
      },
      "source": [
        "Select the first 4 words from the list words_lower using slicing and store them in a new variable x4"
      ],
      "id": "18hg-VVViX9c"
    },
    {
      "cell_type": "code",
      "metadata": {
        "id": "UfCbMNcoiX9d"
      },
      "source": [
        "#code here\n",
        "x4 = words_lower[0:4]"
      ],
      "id": "UfCbMNcoiX9d",
      "execution_count": null,
      "outputs": []
    },
    {
      "cell_type": "code",
      "metadata": {
        "colab": {
          "base_uri": "https://localhost:8080/"
        },
        "id": "u-RSC3ImiX9e",
        "outputId": "3917b2f1-0cbb-40c8-c387-63470d5ba992"
      },
      "source": [
        "# print x4\n",
        "x4"
      ],
      "id": "u-RSC3ImiX9e",
      "execution_count": null,
      "outputs": [
        {
          "output_type": "execute_result",
          "data": {
            "text/plain": [
              "['coronavirus', 'caused', 'lockdowns', 'around']"
            ]
          },
          "metadata": {
            "tags": []
          },
          "execution_count": 60
        }
      ]
    },
    {
      "cell_type": "markdown",
      "metadata": {
        "id": "JIh_ysIfiX9e"
      },
      "source": [
        "Convert the list of elements to single string using join function and print it"
      ],
      "id": "JIh_ysIfiX9e"
    },
    {
      "cell_type": "code",
      "metadata": {
        "colab": {
          "base_uri": "https://localhost:8080/",
          "height": 35
        },
        "id": "8NVzo562iX9f",
        "outputId": "9c62e70f-9cc8-4c89-bc93-31da2f11f3c4"
      },
      "source": [
        "#code here\n",
        "''.join(word + ' ' for word in words_lower)"
      ],
      "id": "8NVzo562iX9f",
      "execution_count": null,
      "outputs": [
        {
          "output_type": "execute_result",
          "data": {
            "application/vnd.google.colaboratory.intrinsic+json": {
              "type": "string"
            },
            "text/plain": [
              "'coronavirus caused lockdowns around world. '"
            ]
          },
          "metadata": {
            "tags": []
          },
          "execution_count": 62
        }
      ]
    },
    {
      "cell_type": "markdown",
      "metadata": {
        "id": "loxkQyG0iX9g"
      },
      "source": [
        "## 2. Sets\n",
        "\n",
        "Reference:-https://www.youtube.com/watch?v=sBvaPopWOmQ"
      ],
      "id": "loxkQyG0iX9g"
    },
    {
      "cell_type": "markdown",
      "metadata": {
        "id": "u9WlWXDYiX9h"
      },
      "source": [
        "#### 2.1. Create stud_grades = ['A','A','B','C','C','F']"
      ],
      "id": "u9WlWXDYiX9h"
    },
    {
      "cell_type": "markdown",
      "metadata": {
        "id": "368HdT8WiX9i"
      },
      "source": [
        "<p style='text-align: right;'> 7 points</p>\n"
      ],
      "id": "368HdT8WiX9i"
    },
    {
      "cell_type": "code",
      "metadata": {
        "id": "mLmVuIMAiX9j"
      },
      "source": [
        "#code here\n",
        "stud_grades = ['A','A','B','C','C','F']\n"
      ],
      "id": "mLmVuIMAiX9j",
      "execution_count": null,
      "outputs": []
    },
    {
      "cell_type": "markdown",
      "metadata": {
        "id": "ZErqkzdciX9k"
      },
      "source": [
        "Print the len of stud_grades"
      ],
      "id": "ZErqkzdciX9k"
    },
    {
      "cell_type": "code",
      "metadata": {
        "colab": {
          "base_uri": "https://localhost:8080/"
        },
        "id": "nVD0tjNYiX9k",
        "outputId": "ce18f192-51f4-4687-86ec-9a51497c3bc1"
      },
      "source": [
        "#code here\n",
        "len(stud_grades)"
      ],
      "id": "nVD0tjNYiX9k",
      "execution_count": null,
      "outputs": [
        {
          "output_type": "execute_result",
          "data": {
            "text/plain": [
              "6"
            ]
          },
          "metadata": {
            "tags": []
          },
          "execution_count": 73
        }
      ]
    },
    {
      "cell_type": "markdown",
      "metadata": {
        "id": "M66BDIAaiX9m"
      },
      "source": [
        "Create a new variable, stud_grades_set = set(stud_grades)"
      ],
      "id": "M66BDIAaiX9m"
    },
    {
      "cell_type": "code",
      "metadata": {
        "id": "x3wzhriuiX9m"
      },
      "source": [
        "#code here\n",
        "stud_grades_set = set(stud_grades)"
      ],
      "id": "x3wzhriuiX9m",
      "execution_count": null,
      "outputs": []
    },
    {
      "cell_type": "markdown",
      "metadata": {
        "id": "4rXjBA6iiX9o"
      },
      "source": [
        "Print stud_grades_set. "
      ],
      "id": "4rXjBA6iiX9o"
    },
    {
      "cell_type": "code",
      "metadata": {
        "colab": {
          "base_uri": "https://localhost:8080/"
        },
        "id": "hOL-hRoIiX9o",
        "outputId": "20d9e717-ddee-4237-9dc9-67aee760dea5"
      },
      "source": [
        "#code here\n",
        "len(stud_grades_set)"
      ],
      "id": "hOL-hRoIiX9o",
      "execution_count": null,
      "outputs": [
        {
          "output_type": "execute_result",
          "data": {
            "text/plain": [
              "4"
            ]
          },
          "metadata": {
            "tags": []
          },
          "execution_count": 75
        }
      ]
    },
    {
      "cell_type": "markdown",
      "metadata": {
        "id": "2p4H1Tz0iX9p"
      },
      "source": [
        "print the type of stud_grades and stud_grades_set and print their corresponding elements. Try to understand the difference between them."
      ],
      "id": "2p4H1Tz0iX9p"
    },
    {
      "cell_type": "code",
      "metadata": {
        "colab": {
          "base_uri": "https://localhost:8080/"
        },
        "id": "6aHhG56biX9q",
        "outputId": "6600ff63-f7f2-467d-8af4-7ac7fcc7d198"
      },
      "source": [
        "#code here\n",
        "print(type(stud_grades),stud_grades)\n",
        "print(type(stud_grades_set),stud_grades_set)\n"
      ],
      "id": "6aHhG56biX9q",
      "execution_count": null,
      "outputs": [
        {
          "output_type": "stream",
          "text": [
            "<class 'list'> ['A', 'A', 'B', 'C', 'C', 'F']\n",
            "<class 'set'> {'A', 'C', 'B', 'G'}\n"
          ],
          "name": "stdout"
        }
      ]
    },
    {
      "cell_type": "markdown",
      "metadata": {
        "id": "9KHN4P04iX9r"
      },
      "source": [
        "Add a new element ‘G’ to stud_grades_set"
      ],
      "id": "9KHN4P04iX9r"
    },
    {
      "cell_type": "code",
      "metadata": {
        "id": "KzbOW3bKiX9r"
      },
      "source": [
        "#code here\n",
        "stud_grades_set.add('G')\n"
      ],
      "id": "KzbOW3bKiX9r",
      "execution_count": null,
      "outputs": []
    },
    {
      "cell_type": "markdown",
      "metadata": {
        "id": "laHVQwKoiX9s"
      },
      "source": [
        "Add element 'F' to stud_grades_set. and print it."
      ],
      "id": "laHVQwKoiX9s"
    },
    {
      "cell_type": "code",
      "metadata": {
        "colab": {
          "base_uri": "https://localhost:8080/"
        },
        "id": "vu5qlehGiX9s",
        "outputId": "a5f1871d-f76c-4086-8d4b-c1687cca0d19"
      },
      "source": [
        "#code here\n",
        "stud_grades_set.add('F')\n",
        "print(stud_grades_set)\n"
      ],
      "id": "vu5qlehGiX9s",
      "execution_count": null,
      "outputs": [
        {
          "output_type": "stream",
          "text": [
            "{'A', 'C', 'B', 'G', 'F'}\n"
          ],
          "name": "stdout"
        }
      ]
    },
    {
      "cell_type": "markdown",
      "metadata": {
        "id": "5nHYElzdiX9t"
      },
      "source": [
        "!!Did you notice? set doesn't add an element if it's already present in it, unlike lists."
      ],
      "id": "5nHYElzdiX9t"
    },
    {
      "cell_type": "markdown",
      "metadata": {
        "id": "AkaFtG87iX9u"
      },
      "source": [
        "Remove ‘F’ from stud_grades_set"
      ],
      "id": "AkaFtG87iX9u"
    },
    {
      "cell_type": "code",
      "metadata": {
        "id": "uVZ7CcaXiX9v"
      },
      "source": [
        "#code here\n",
        "stud_grades_set.remove('F')\n"
      ],
      "id": "uVZ7CcaXiX9v",
      "execution_count": null,
      "outputs": []
    },
    {
      "cell_type": "markdown",
      "metadata": {
        "id": "m07HUe0eiX9w"
      },
      "source": [
        "Print the elements and the length of stud_grades_set"
      ],
      "id": "m07HUe0eiX9w"
    },
    {
      "cell_type": "code",
      "metadata": {
        "colab": {
          "base_uri": "https://localhost:8080/"
        },
        "id": "VMCKS5_FiX9w",
        "outputId": "0c24e3af-4d82-4758-daba-3249c8e50020"
      },
      "source": [
        "#code here\n",
        "stud_grades_set\n"
      ],
      "id": "VMCKS5_FiX9w",
      "execution_count": null,
      "outputs": [
        {
          "output_type": "execute_result",
          "data": {
            "text/plain": [
              "{'A', 'B', 'C', 'G'}"
            ]
          },
          "metadata": {
            "tags": []
          },
          "execution_count": 81
        }
      ]
    },
    {
      "cell_type": "markdown",
      "metadata": {
        "id": "PLI9mxCEiX9x"
      },
      "source": [
        "#### 2.2. Create colors = [‘red’,’blue’,’orange’], and fruits = [‘orange’,’grapes’,’apples’] "
      ],
      "id": "PLI9mxCEiX9x"
    },
    {
      "cell_type": "markdown",
      "metadata": {
        "id": "GMXVhhBCiX9y"
      },
      "source": [
        "<p style='text-align: right;'> 6 points</p>\n"
      ],
      "id": "GMXVhhBCiX9y"
    },
    {
      "cell_type": "code",
      "metadata": {
        "id": "vYwueWVxiX-W"
      },
      "source": [
        "#code here\n",
        "colors = ['red','blue','orange']\n",
        "fruits = ['orange','grapes','apples']\n"
      ],
      "id": "vYwueWVxiX-W",
      "execution_count": null,
      "outputs": []
    },
    {
      "cell_type": "markdown",
      "metadata": {
        "id": "PFd2jQloiX-X"
      },
      "source": [
        "Print color and fruits"
      ],
      "id": "PFd2jQloiX-X"
    },
    {
      "cell_type": "code",
      "metadata": {
        "colab": {
          "base_uri": "https://localhost:8080/"
        },
        "id": "Vt1ZHHWviX-X",
        "outputId": "ea8e8d74-c0f7-4f19-c668-7cd453fb9fd1"
      },
      "source": [
        "#code here\n",
        "print(colors)\n",
        "print(fruits)"
      ],
      "id": "Vt1ZHHWviX-X",
      "execution_count": null,
      "outputs": [
        {
          "output_type": "stream",
          "text": [
            "['red', 'blue', 'orange']\n",
            "['orange', 'grapes', 'apples']\n"
          ],
          "name": "stdout"
        }
      ]
    },
    {
      "cell_type": "markdown",
      "metadata": {
        "id": "qXaMXMS8iX-Y"
      },
      "source": [
        "Create colors_set, and fruits_set. (using set() ) and print them"
      ],
      "id": "qXaMXMS8iX-Y"
    },
    {
      "cell_type": "code",
      "metadata": {
        "colab": {
          "base_uri": "https://localhost:8080/"
        },
        "id": "5Vz-qMwbiX-Z",
        "outputId": "0eb26af3-4f33-44f6-8302-65291fdf2769"
      },
      "source": [
        "#code here\n",
        "colors_set = set(colors)\n",
        "fruits_set = set(fruits)\n",
        "print(colors_set)\n",
        "print(fruits_set)"
      ],
      "id": "5Vz-qMwbiX-Z",
      "execution_count": null,
      "outputs": [
        {
          "output_type": "stream",
          "text": [
            "{'red', 'orange', 'blue'}\n",
            "{'apples', 'grapes', 'orange'}\n"
          ],
          "name": "stdout"
        }
      ]
    },
    {
      "cell_type": "markdown",
      "metadata": {
        "id": "K2WPeUTwiX-a"
      },
      "source": [
        "Find the union of both the sets."
      ],
      "id": "K2WPeUTwiX-a"
    },
    {
      "cell_type": "code",
      "metadata": {
        "colab": {
          "base_uri": "https://localhost:8080/"
        },
        "id": "4gbDpESxiX-a",
        "outputId": "f4f6305d-e3a8-4e9c-d65f-e408d0a0a1c3"
      },
      "source": [
        "#code here\n",
        "colors_set.union(fruits_set)\n"
      ],
      "id": "4gbDpESxiX-a",
      "execution_count": null,
      "outputs": [
        {
          "output_type": "execute_result",
          "data": {
            "text/plain": [
              "{'apples', 'blue', 'grapes', 'orange', 'red'}"
            ]
          },
          "metadata": {
            "tags": []
          },
          "execution_count": 91
        }
      ]
    },
    {
      "cell_type": "markdown",
      "metadata": {
        "id": "LHxrzN3oiX-c"
      },
      "source": [
        "Find the intersection of both the sets "
      ],
      "id": "LHxrzN3oiX-c"
    },
    {
      "cell_type": "code",
      "metadata": {
        "colab": {
          "base_uri": "https://localhost:8080/"
        },
        "id": "fJ6t7r_XiX-d",
        "outputId": "14f90956-927c-47a5-8926-77186f322c0e"
      },
      "source": [
        "#code here\n",
        "\n",
        "colors_set.intersection(fruits_set)"
      ],
      "id": "fJ6t7r_XiX-d",
      "execution_count": null,
      "outputs": [
        {
          "output_type": "execute_result",
          "data": {
            "text/plain": [
              "{'orange'}"
            ]
          },
          "metadata": {
            "tags": []
          },
          "execution_count": 92
        }
      ]
    },
    {
      "cell_type": "markdown",
      "metadata": {
        "id": "wUcDn9fWiX-e"
      },
      "source": [
        "Find the elements which are Fruits but not colors (using set.difference() )"
      ],
      "id": "wUcDn9fWiX-e"
    },
    {
      "cell_type": "code",
      "metadata": {
        "colab": {
          "base_uri": "https://localhost:8080/"
        },
        "id": "Mlgpa80oiX-f",
        "outputId": "a80454d7-181e-4135-b602-3de452ab2af3"
      },
      "source": [
        "#code here\n",
        "\n",
        "fruits_set.difference(colors_set)"
      ],
      "id": "Mlgpa80oiX-f",
      "execution_count": null,
      "outputs": [
        {
          "output_type": "execute_result",
          "data": {
            "text/plain": [
              "{'apples', 'grapes'}"
            ]
          },
          "metadata": {
            "tags": []
          },
          "execution_count": 93
        }
      ]
    },
    {
      "cell_type": "markdown",
      "metadata": {
        "id": "a-izl4vqiX-g"
      },
      "source": [
        "## 3. TUPLES\n",
        "\n",
        "Reference:-https://www.youtube.com/watch?v=NI26dqhs2Rk"
      ],
      "id": "a-izl4vqiX-g"
    },
    {
      "cell_type": "markdown",
      "metadata": {
        "id": "dbY73fiMiX-h"
      },
      "source": [
        "#### 3.1 . Create temp = [17, ’Virat’, 50.0]"
      ],
      "id": "dbY73fiMiX-h"
    },
    {
      "cell_type": "markdown",
      "metadata": {
        "id": "ibhwzs7NiX-i"
      },
      "source": [
        "<p style='text-align: right;'> 7 points</p>\n"
      ],
      "id": "ibhwzs7NiX-i"
    },
    {
      "cell_type": "code",
      "metadata": {
        "id": "fb-8AdpmiX-o"
      },
      "source": [
        "#code here\n",
        "\n",
        "temp = [17, 'Virat', 50.0]\n"
      ],
      "id": "fb-8AdpmiX-o",
      "execution_count": null,
      "outputs": []
    },
    {
      "cell_type": "markdown",
      "metadata": {
        "id": "eHwNK-sZiX-p"
      },
      "source": [
        "Iterate through temp and print all the items in temp"
      ],
      "id": "eHwNK-sZiX-p"
    },
    {
      "cell_type": "code",
      "metadata": {
        "colab": {
          "base_uri": "https://localhost:8080/"
        },
        "id": "-M0eG93fiX-q",
        "outputId": "2d34c83f-57a7-4c70-803b-282142e9bd13"
      },
      "source": [
        "#code here\n",
        "\n",
        "for i in temp:\n",
        "  print(i)\n"
      ],
      "id": "-M0eG93fiX-q",
      "execution_count": null,
      "outputs": [
        {
          "output_type": "stream",
          "text": [
            "17\n",
            "Virat\n",
            "50.0\n"
          ],
          "name": "stdout"
        }
      ]
    },
    {
      "cell_type": "markdown",
      "metadata": {
        "id": "xnBn2xCBiX-r"
      },
      "source": [
        "replace first element with 11 in temp"
      ],
      "id": "xnBn2xCBiX-r"
    },
    {
      "cell_type": "code",
      "metadata": {
        "colab": {
          "base_uri": "https://localhost:8080/"
        },
        "id": "zvB9o4ZeiX-r",
        "outputId": "4d0cf2d0-9dec-479d-de52-25d8e389ca82"
      },
      "source": [
        "#code\n",
        "temp[0] = 11\n",
        "temp"
      ],
      "id": "zvB9o4ZeiX-r",
      "execution_count": null,
      "outputs": [
        {
          "output_type": "execute_result",
          "data": {
            "text/plain": [
              "[11, 'Virat', 50.0]"
            ]
          },
          "metadata": {
            "tags": []
          },
          "execution_count": 111
        }
      ]
    },
    {
      "cell_type": "markdown",
      "metadata": {
        "id": "i697qVRBiX-s"
      },
      "source": [
        "Set temp1 = tuple(temp)"
      ],
      "id": "i697qVRBiX-s"
    },
    {
      "cell_type": "code",
      "metadata": {
        "id": "oPxvqzKLiX-t"
      },
      "source": [
        "#code here\n",
        "\n",
        "temp1 = tuple(temp)"
      ],
      "id": "oPxvqzKLiX-t",
      "execution_count": null,
      "outputs": []
    },
    {
      "cell_type": "markdown",
      "metadata": {
        "id": "gKf3gKSXiX-u"
      },
      "source": [
        "Iterate through temp1 and print all the items in temp1. "
      ],
      "id": "gKf3gKSXiX-u"
    },
    {
      "cell_type": "code",
      "metadata": {
        "colab": {
          "base_uri": "https://localhost:8080/"
        },
        "id": "rMBp_uB2iX-v",
        "outputId": "2f10543c-2d4a-49ea-9aa4-cd49c8c4765f"
      },
      "source": [
        "#code here\n",
        "for i in temp1:\n",
        "  print(i)\n"
      ],
      "id": "rMBp_uB2iX-v",
      "execution_count": null,
      "outputs": [
        {
          "output_type": "stream",
          "text": [
            "11\n",
            "Virat\n",
            "50.0\n"
          ],
          "name": "stdout"
        }
      ]
    },
    {
      "cell_type": "markdown",
      "metadata": {
        "id": "oWhtf2sSiX-v"
      },
      "source": [
        "replace first element with 17 in temp1"
      ],
      "id": "oWhtf2sSiX-v"
    },
    {
      "cell_type": "code",
      "metadata": {
        "colab": {
          "base_uri": "https://localhost:8080/",
          "height": 180
        },
        "id": "E_RIrVo3iX-w",
        "outputId": "c2dd8cce-03e8-4d04-e542-a0f5df575ed8"
      },
      "source": [
        "#code here\n",
        "temp1[0] = 17\n"
      ],
      "id": "E_RIrVo3iX-w",
      "execution_count": null,
      "outputs": [
        {
          "output_type": "error",
          "ename": "TypeError",
          "evalue": "ignored",
          "traceback": [
            "\u001b[0;31m---------------------------------------------------------------------------\u001b[0m",
            "\u001b[0;31mTypeError\u001b[0m                                 Traceback (most recent call last)",
            "\u001b[0;32m<ipython-input-112-a9c8ba032b92>\u001b[0m in \u001b[0;36m<module>\u001b[0;34m()\u001b[0m\n\u001b[1;32m      1\u001b[0m \u001b[0;31m#code here\u001b[0m\u001b[0;34m\u001b[0m\u001b[0;34m\u001b[0m\u001b[0;34m\u001b[0m\u001b[0m\n\u001b[0;32m----> 2\u001b[0;31m \u001b[0mtemp1\u001b[0m\u001b[0;34m[\u001b[0m\u001b[0;36m0\u001b[0m\u001b[0;34m]\u001b[0m \u001b[0;34m=\u001b[0m \u001b[0;36m17\u001b[0m\u001b[0;34m\u001b[0m\u001b[0;34m\u001b[0m\u001b[0m\n\u001b[0m",
            "\u001b[0;31mTypeError\u001b[0m: 'tuple' object does not support item assignment"
          ]
        }
      ]
    },
    {
      "cell_type": "markdown",
      "metadata": {
        "id": "VFnq9f9iiX-x"
      },
      "source": [
        "<b>Oops!! You got an error. Hey Don't worry! Its because Once a tuple is created, you cannot change its values unlike list.</b>"
      ],
      "id": "VFnq9f9iiX-x"
    },
    {
      "cell_type": "markdown",
      "metadata": {
        "id": "rbYRacaAiX-y"
      },
      "source": [
        "#### 3.2 . Create city = (\"Bangalore\", 28.9949521, 72)"
      ],
      "id": "rbYRacaAiX-y"
    },
    {
      "cell_type": "markdown",
      "metadata": {
        "id": "y2ESXYZRiX-y"
      },
      "source": [
        "<p style='text-align: right;'> 6 points</p>\n"
      ],
      "id": "y2ESXYZRiX-y"
    },
    {
      "cell_type": "code",
      "metadata": {
        "id": "hhiCYOQeiX-z"
      },
      "source": [
        "#code here\n",
        "city = (\"Bangalore\", 28.9949521, 72)\n"
      ],
      "id": "hhiCYOQeiX-z",
      "execution_count": null,
      "outputs": []
    },
    {
      "cell_type": "markdown",
      "metadata": {
        "id": "CpnEMFMqiX-0"
      },
      "source": [
        "Print first element of city"
      ],
      "id": "CpnEMFMqiX-0"
    },
    {
      "cell_type": "code",
      "metadata": {
        "colab": {
          "base_uri": "https://localhost:8080/",
          "height": 35
        },
        "id": "uZv7eDlTiX-1",
        "outputId": "8ffcfc81-ec3d-4c5f-bf52-6310026226fe"
      },
      "source": [
        "#code here\n",
        "city[0]\n"
      ],
      "id": "uZv7eDlTiX-1",
      "execution_count": null,
      "outputs": [
        {
          "output_type": "execute_result",
          "data": {
            "application/vnd.google.colaboratory.intrinsic+json": {
              "type": "string"
            },
            "text/plain": [
              "'Bangalore'"
            ]
          },
          "metadata": {
            "tags": []
          },
          "execution_count": 115
        }
      ]
    },
    {
      "cell_type": "markdown",
      "metadata": {
        "id": "W69I2U0yiX-2"
      },
      "source": [
        "Create city2 = (‘Chennai’, 30.01, 74)"
      ],
      "id": "W69I2U0yiX-2"
    },
    {
      "cell_type": "code",
      "metadata": {
        "id": "ijVHFg_ziX_d"
      },
      "source": [
        "#code here\n",
        "\n",
        "city2 = ('Chennai', 30.01, 74)"
      ],
      "id": "ijVHFg_ziX_d",
      "execution_count": null,
      "outputs": []
    },
    {
      "cell_type": "markdown",
      "metadata": {
        "id": "NZNjqcc3iX_d"
      },
      "source": [
        "Create cities which consist of city and city2"
      ],
      "id": "NZNjqcc3iX_d"
    },
    {
      "cell_type": "code",
      "metadata": {
        "id": "qcf0FFfJiX_e"
      },
      "source": [
        "#code here\n",
        "\n",
        "cities = (city,city2)"
      ],
      "id": "qcf0FFfJiX_e",
      "execution_count": null,
      "outputs": []
    },
    {
      "cell_type": "markdown",
      "metadata": {
        "id": "5XIYu35CiX_f"
      },
      "source": [
        "Print cities"
      ],
      "id": "5XIYu35CiX_f"
    },
    {
      "cell_type": "code",
      "metadata": {
        "colab": {
          "base_uri": "https://localhost:8080/"
        },
        "id": "fi0d1Cj9iX_g",
        "outputId": "2e336521-1f00-4b7e-dd70-3e2d8d8cbcc9"
      },
      "source": [
        "#code here\n",
        "cities\n"
      ],
      "id": "fi0d1Cj9iX_g",
      "execution_count": null,
      "outputs": [
        {
          "output_type": "execute_result",
          "data": {
            "text/plain": [
              "(('Bangalore', 28.9949521, 72), ('Chennai', 30.01, 74))"
            ]
          },
          "metadata": {
            "tags": []
          },
          "execution_count": 124
        }
      ]
    },
    {
      "cell_type": "markdown",
      "metadata": {
        "id": "kKRd4PRjiX_h"
      },
      "source": [
        "Print type of first element in cities"
      ],
      "id": "kKRd4PRjiX_h"
    },
    {
      "cell_type": "code",
      "metadata": {
        "colab": {
          "base_uri": "https://localhost:8080/"
        },
        "id": "0o_wXnMwiX_i",
        "outputId": "c3082b7d-2889-4881-ba44-075c05604c35"
      },
      "source": [
        "#code here\n",
        "type(cities[0])"
      ],
      "id": "0o_wXnMwiX_i",
      "execution_count": null,
      "outputs": [
        {
          "output_type": "execute_result",
          "data": {
            "text/plain": [
              "tuple"
            ]
          },
          "metadata": {
            "tags": []
          },
          "execution_count": 125
        }
      ]
    },
    {
      "cell_type": "markdown",
      "metadata": {
        "id": "Mme8KolniX_i"
      },
      "source": [
        "print the type of cities\n"
      ],
      "id": "Mme8KolniX_i"
    },
    {
      "cell_type": "code",
      "metadata": {
        "colab": {
          "base_uri": "https://localhost:8080/"
        },
        "id": "EU4FIH52iX_j",
        "outputId": "99b4044b-b436-4429-ca0c-b17770c7186a"
      },
      "source": [
        "#code here\n",
        "type(cities)\n"
      ],
      "id": "EU4FIH52iX_j",
      "execution_count": null,
      "outputs": [
        {
          "output_type": "execute_result",
          "data": {
            "text/plain": [
              "tuple"
            ]
          },
          "metadata": {
            "tags": []
          },
          "execution_count": 126
        }
      ]
    },
    {
      "cell_type": "markdown",
      "metadata": {
        "id": "K4PBHrdziX_k"
      },
      "source": [
        "Hey that implies you made a nested tuples!!"
      ],
      "id": "K4PBHrdziX_k"
    },
    {
      "cell_type": "markdown",
      "metadata": {
        "id": "MVLwCdkoiX_l"
      },
      "source": [
        "## 4. DICT\n",
        "\n",
        "Reference:-https://www.youtube.com/watch?v=XCcpzWs-CI4"
      ],
      "id": "MVLwCdkoiX_l"
    },
    {
      "cell_type": "markdown",
      "metadata": {
        "id": "OU15bw-4iX_m"
      },
      "source": [
        "<p style='text-align: right;'> 11 points</p>\n"
      ],
      "id": "OU15bw-4iX_m"
    },
    {
      "cell_type": "markdown",
      "metadata": {
        "id": "S1WcdAypiX_m"
      },
      "source": [
        "#### 4.1 Create a dictionary d = {\"actor\":\"amir\",\"animal\":\"cat\",\"earth\":2,\"list\":[23,32,12]}"
      ],
      "id": "S1WcdAypiX_m"
    },
    {
      "cell_type": "code",
      "metadata": {
        "id": "VOc8Sg9fiX_n"
      },
      "source": [
        "#code here\n",
        "\n",
        "d = {\"actor\":\"amir\",\"animal\":\"cat\",\"earth\":2,\"list\":[23,32,12]}"
      ],
      "id": "VOc8Sg9fiX_n",
      "execution_count": null,
      "outputs": []
    },
    {
      "cell_type": "markdown",
      "metadata": {
        "id": "VEi_dgJoiX_o"
      },
      "source": [
        "Print the value of d[0]"
      ],
      "id": "VEi_dgJoiX_o"
    },
    {
      "cell_type": "code",
      "metadata": {
        "colab": {
          "base_uri": "https://localhost:8080/",
          "height": 180
        },
        "id": "e4TOLVxZiX_o",
        "outputId": "f91c6f1a-41d1-4c0a-c233-4636bbb59223"
      },
      "source": [
        "#code here\n",
        "d[0]\n"
      ],
      "id": "e4TOLVxZiX_o",
      "execution_count": null,
      "outputs": [
        {
          "output_type": "error",
          "ename": "KeyError",
          "evalue": "ignored",
          "traceback": [
            "\u001b[0;31m---------------------------------------------------------------------------\u001b[0m",
            "\u001b[0;31mKeyError\u001b[0m                                  Traceback (most recent call last)",
            "\u001b[0;32m<ipython-input-2-a306cefea1b5>\u001b[0m in \u001b[0;36m<module>\u001b[0;34m()\u001b[0m\n\u001b[1;32m      1\u001b[0m \u001b[0;31m#code here\u001b[0m\u001b[0;34m\u001b[0m\u001b[0;34m\u001b[0m\u001b[0;34m\u001b[0m\u001b[0m\n\u001b[0;32m----> 2\u001b[0;31m \u001b[0md\u001b[0m\u001b[0;34m[\u001b[0m\u001b[0;36m0\u001b[0m\u001b[0;34m]\u001b[0m\u001b[0;34m\u001b[0m\u001b[0;34m\u001b[0m\u001b[0m\n\u001b[0m",
            "\u001b[0;31mKeyError\u001b[0m: 0"
          ]
        }
      ]
    },
    {
      "cell_type": "markdown",
      "metadata": {
        "id": "OHqyBqJOiX_p"
      },
      "source": [
        "<b>Oops!! again an error. again a fun fact. Dictionary return the value for key if key is in the dictionary, else throws KeyError\n",
        "and we don't have key 0 here :( </b>"
      ],
      "id": "OHqyBqJOiX_p"
    },
    {
      "cell_type": "markdown",
      "metadata": {
        "id": "JuoW3C39iX_q"
      },
      "source": [
        "Store the value of d[‘actor’] to a new variable actor."
      ],
      "id": "JuoW3C39iX_q"
    },
    {
      "cell_type": "code",
      "metadata": {
        "colab": {
          "base_uri": "https://localhost:8080/",
          "height": 35
        },
        "id": "e_d8xmceiX_r",
        "outputId": "ebea8e27-938f-4707-d317-6b21e75bb1e6"
      },
      "source": [
        "#code here\n",
        "\n",
        "d['actor']"
      ],
      "id": "e_d8xmceiX_r",
      "execution_count": null,
      "outputs": [
        {
          "output_type": "execute_result",
          "data": {
            "application/vnd.google.colaboratory.intrinsic+json": {
              "type": "string"
            },
            "text/plain": [
              "'amir'"
            ]
          },
          "metadata": {
            "tags": []
          },
          "execution_count": 3
        }
      ]
    },
    {
      "cell_type": "markdown",
      "metadata": {
        "id": "quMFsPk_iX_r"
      },
      "source": [
        "Print the type of actor"
      ],
      "id": "quMFsPk_iX_r"
    },
    {
      "cell_type": "code",
      "metadata": {
        "colab": {
          "base_uri": "https://localhost:8080/"
        },
        "id": "_DeRyRzTiX_s",
        "outputId": "a73708a7-0071-4010-d0cb-34c73a9e43f4"
      },
      "source": [
        "#code here\n",
        "\n",
        "type(d['actor'])"
      ],
      "id": "_DeRyRzTiX_s",
      "execution_count": null,
      "outputs": [
        {
          "output_type": "execute_result",
          "data": {
            "text/plain": [
              "str"
            ]
          },
          "metadata": {
            "tags": []
          },
          "execution_count": 5
        }
      ]
    },
    {
      "cell_type": "markdown",
      "metadata": {
        "id": "QmgWJ4lZiX_t"
      },
      "source": [
        "Store the value of d[‘list’] in new variable l. "
      ],
      "id": "QmgWJ4lZiX_t"
    },
    {
      "cell_type": "code",
      "metadata": {
        "id": "BcTXVRsyiX_t"
      },
      "source": [
        "#code here\n",
        "\n",
        "l = d['list']\n"
      ],
      "id": "BcTXVRsyiX_t",
      "execution_count": null,
      "outputs": []
    },
    {
      "cell_type": "markdown",
      "metadata": {
        "id": "M7xQsXHEiX_u"
      },
      "source": [
        "Print the type of l. "
      ],
      "id": "M7xQsXHEiX_u"
    },
    {
      "cell_type": "code",
      "metadata": {
        "colab": {
          "base_uri": "https://localhost:8080/"
        },
        "id": "5GUMz7CwiX_v",
        "outputId": "c8fa1779-8f28-4be7-c8bf-2956d800e5ee"
      },
      "source": [
        "#code here\n",
        "\n",
        "type(l)"
      ],
      "id": "5GUMz7CwiX_v",
      "execution_count": null,
      "outputs": [
        {
          "output_type": "execute_result",
          "data": {
            "text/plain": [
              "list"
            ]
          },
          "metadata": {
            "tags": []
          },
          "execution_count": 7
        }
      ]
    },
    {
      "cell_type": "markdown",
      "metadata": {
        "id": "cyaD59otiX_w"
      },
      "source": [
        "Create d1 = { ‘singer’ : ‘Kr$na’ , ‘album’: ‘Still here’, ‘genre’ : ‘hip-hop’}"
      ],
      "id": "cyaD59otiX_w"
    },
    {
      "cell_type": "code",
      "metadata": {
        "id": "-hVc_dcHiX_w"
      },
      "source": [
        "#code here\n",
        "\n",
        "d1 = { 'singer' : 'Kr$na' , 'album': 'Still here', 'genre' : 'hip-hop'}"
      ],
      "id": "-hVc_dcHiX_w",
      "execution_count": null,
      "outputs": []
    },
    {
      "cell_type": "markdown",
      "metadata": {
        "id": "7_yQfHXXiX_x"
      },
      "source": [
        "Merge d1 into d."
      ],
      "id": "7_yQfHXXiX_x"
    },
    {
      "cell_type": "code",
      "metadata": {
        "id": "2AbSybo5iX_y"
      },
      "source": [
        "#code here\n",
        "\n",
        "d.update(d1)"
      ],
      "id": "2AbSybo5iX_y",
      "execution_count": null,
      "outputs": []
    },
    {
      "cell_type": "markdown",
      "metadata": {
        "id": "WadJfimpiX_z"
      },
      "source": [
        "print d"
      ],
      "id": "WadJfimpiX_z"
    },
    {
      "cell_type": "code",
      "metadata": {
        "colab": {
          "base_uri": "https://localhost:8080/"
        },
        "id": "1hANVou1iX_z",
        "outputId": "2cc423e9-f691-4a68-fa6e-f79233aa231b"
      },
      "source": [
        "#code here\n",
        "d\n"
      ],
      "id": "1hANVou1iX_z",
      "execution_count": null,
      "outputs": [
        {
          "output_type": "execute_result",
          "data": {
            "text/plain": [
              "{'actor': 'amir',\n",
              " 'album': 'Still here',\n",
              " 'animal': 'cat',\n",
              " 'earth': 2,\n",
              " 'genre': 'hip-hop',\n",
              " 'list': [23, 32, 12],\n",
              " 'singer': 'Kr$na'}"
            ]
          },
          "metadata": {
            "tags": []
          },
          "execution_count": 11
        }
      ]
    },
    {
      "cell_type": "markdown",
      "metadata": {
        "id": "lqPYT-9TiX_0"
      },
      "source": [
        "Print all the keys in d"
      ],
      "id": "lqPYT-9TiX_0"
    },
    {
      "cell_type": "code",
      "metadata": {
        "colab": {
          "base_uri": "https://localhost:8080/"
        },
        "id": "XByN_nTtiX_1",
        "outputId": "96e74cf6-898a-4faa-cc12-c280853bba1a"
      },
      "source": [
        "#code here\n",
        "print(d.keys())"
      ],
      "id": "XByN_nTtiX_1",
      "execution_count": null,
      "outputs": [
        {
          "output_type": "stream",
          "text": [
            "dict_keys(['actor', 'animal', 'earth', 'list', 'singer', 'album', 'genre'])\n"
          ],
          "name": "stdout"
        }
      ]
    },
    {
      "cell_type": "markdown",
      "metadata": {
        "id": "BYWeN_S8iX_2"
      },
      "source": [
        "Print all the values in d"
      ],
      "id": "BYWeN_S8iX_2"
    },
    {
      "cell_type": "code",
      "metadata": {
        "colab": {
          "base_uri": "https://localhost:8080/"
        },
        "id": "mri3cniPiX_3",
        "outputId": "f3a46555-8be8-4f58-d659-b994ee671d43"
      },
      "source": [
        "#code here\n",
        "print(d.values())\n"
      ],
      "id": "mri3cniPiX_3",
      "execution_count": null,
      "outputs": [
        {
          "output_type": "stream",
          "text": [
            "dict_values(['amir', 'cat', 2, [23, 32, 12], 'Kr$na', 'Still here', 'hip-hop'])\n"
          ],
          "name": "stdout"
        }
      ]
    },
    {
      "cell_type": "markdown",
      "metadata": {
        "id": "u7UwiQeAiX_4"
      },
      "source": [
        "Iterate over d, and print each key, value pair as given in output"
      ],
      "id": "u7UwiQeAiX_4"
    },
    {
      "cell_type": "code",
      "metadata": {
        "colab": {
          "base_uri": "https://localhost:8080/"
        },
        "id": "gvIFYKHYiX_5",
        "outputId": "9c13c8b1-bdcf-49cc-c7a5-631045d501ee"
      },
      "source": [
        "#code here\n",
        "for key, value in d.items():\n",
        "  print(key, \" ----> \", value)\n",
        "\n"
      ],
      "id": "gvIFYKHYiX_5",
      "execution_count": null,
      "outputs": [
        {
          "output_type": "stream",
          "text": [
            "actor  ---->  amir\n",
            "animal  ---->  cat\n",
            "earth  ---->  2\n",
            "list  ---->  [23, 32, 12]\n",
            "singer  ---->  Kr$na\n",
            "album  ---->  Still here\n",
            "genre  ---->  hip-hop\n"
          ],
          "name": "stdout"
        }
      ]
    },
    {
      "cell_type": "markdown",
      "metadata": {
        "id": "1HRwxZF9iX_6"
      },
      "source": [
        "\n",
        "Create a string, sent = ‘Coronavirus Caused Lockdowns Around The World.”\n",
        "\n",
        "Count the number of occurences of charachters in string named \"sent\" using dictionary and print the same.\n"
      ],
      "id": "1HRwxZF9iX_6"
    },
    {
      "cell_type": "code",
      "metadata": {
        "colab": {
          "base_uri": "https://localhost:8080/"
        },
        "id": "7Hq3Nq8viX_6",
        "outputId": "052db4e1-7159-4273-9aa1-ec563a7e4c62"
      },
      "source": [
        "#code here\n",
        "sent = 'Coronavirus Caused Lockdowns Around The World.'\n",
        "dict = {}\n",
        "for i in sent:\n",
        "  dict[i] = sent.count(i)\n",
        "print(dict)\n"
      ],
      "id": "7Hq3Nq8viX_6",
      "execution_count": 16,
      "outputs": [
        {
          "output_type": "stream",
          "text": [
            "{'C': 2, 'o': 6, 'r': 4, 'n': 3, 'a': 2, 'v': 1, 'i': 1, 'u': 3, 's': 3, ' ': 5, 'e': 2, 'd': 4, 'L': 1, 'c': 1, 'k': 1, 'w': 1, 'A': 1, 'T': 1, 'h': 1, 'W': 1, 'l': 1, '.': 1}\n"
          ],
          "name": "stdout"
        }
      ]
    },
    {
      "cell_type": "markdown",
      "metadata": {
        "id": "-CAHdHTgiYAb"
      },
      "source": [
        "# --------------------------------------------------------------------"
      ],
      "id": "-CAHdHTgiYAb"
    },
    {
      "cell_type": "markdown",
      "metadata": {
        "id": "qTAVgjF0iYAc"
      },
      "source": [
        "# Hurray!! Second milestone completed. The next challenge is waiting for you :)\n",
        "\n",
        "# --------------------------------------------------------------------\n",
        "\n",
        "-----------------\n",
        "# FeedBack\n",
        "We hope you’ve enjoyed this course so far. We’re committed to help you use \"AI for All\" course to its full potential, so that you have a great learning experience. And that’s why we need your help in form of a feedback here.\n",
        "\n",
        "Please fill this feedback form  https://zfrmz.in/MtRG5oWXBdesm6rmSM7N"
      ],
      "id": "qTAVgjF0iYAc"
    }
  ]
}