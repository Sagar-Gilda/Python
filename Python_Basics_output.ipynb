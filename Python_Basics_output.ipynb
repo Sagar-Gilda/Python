{
  "nbformat": 4,
  "nbformat_minor": 0,
  "metadata": {
    "kernelspec": {
      "display_name": "Python 3",
      "language": "python",
      "name": "python3"
    },
    "language_info": {
      "codemirror_mode": {
        "name": "ipython",
        "version": 3
      },
      "file_extension": ".py",
      "mimetype": "text/x-python",
      "name": "python",
      "nbconvert_exporter": "python",
      "pygments_lexer": "ipython3",
      "version": "3.8.5"
    },
    "colab": {
      "name": "Python Basics.ipynb",
      "provenance": [],
      "collapsed_sections": [],
      "include_colab_link": true
    }
  },
  "cells": [
    {
      "cell_type": "markdown",
      "metadata": {
        "id": "view-in-github",
        "colab_type": "text"
      },
      "source": [
        "<a href=\"https://colab.research.google.com/github/Sagar-Gilda/Python/blob/main/Python_Basics_output.ipynb\" target=\"_parent\"><img src=\"https://colab.research.google.com/assets/colab-badge.svg\" alt=\"Open In Colab\"/></a>"
      ]
    },
    {
      "cell_type": "markdown",
      "metadata": {
        "id": "mOOkN5gCb3tx"
      },
      "source": [
        "# <center><u> Python basics</u></center>\n",
        "![image.png](attachment:image.png)"
      ]
    },
    {
      "cell_type": "markdown",
      "metadata": {
        "id": "M9orLCHYb3uC"
      },
      "source": [
        "Python is emerging as the popular language used more in data science applications.\n",
        "\n",
        "Take the case of the tech giant Google that has created the deep learning framework called tensorflow – Python is the primary language used for creating this framework. Its footprint has continued to increase in the environment promoted by Netflix. Production engineers at Facebook and Khan Academy have for long been using it as a prominent language in their environment.\n",
        "\n",
        "Python became the most popular language in the data science world.\n",
        "So what are you waiting for? Lets start learning python basic as your first assignment.\n",
        "\n",
        "\n",
        "Add-on Reference: https://youtu.be/HGOBQPFzWKo\n",
        "\n",
        "Add-on reference: https://youtu.be/8DvywoWv6fI\n",
        "\n",
        "\n",
        "## Variable declaration"
      ]
    },
    {
      "cell_type": "markdown",
      "metadata": {
        "id": "XBiL6McZb3uH"
      },
      "source": [
        "Covers the topic of variable declaration and type of variables\n",
        "\n",
        "reference:- https://youtu.be/RVYY7zMiPbg\n",
        "\n",
        "<p style='text-align: right;'> 1+1+1+1+1 = 5 points</p>\n"
      ]
    },
    {
      "cell_type": "code",
      "metadata": {
        "id": "SeAS0olZb3uM"
      },
      "source": [
        "# declare two variables, a = 5, b = 'city'\n",
        "a = 5 # your code here\n",
        "b = 'city' # your code here"
      ],
      "execution_count": 2,
      "outputs": []
    },
    {
      "cell_type": "code",
      "metadata": {
        "colab": {
          "base_uri": "https://localhost:8080/"
        },
        "id": "sKuAH-Q6b3uR",
        "outputId": "93049ca3-5b14-45ca-8d00-febe93332008"
      },
      "source": [
        "# print type of a\n",
        "print(type(a))"
      ],
      "execution_count": 5,
      "outputs": [
        {
          "output_type": "stream",
          "text": [
            "<class 'int'>\n"
          ],
          "name": "stdout"
        }
      ]
    },
    {
      "cell_type": "code",
      "metadata": {
        "colab": {
          "base_uri": "https://localhost:8080/"
        },
        "id": "HpQd6NPmb3uX",
        "outputId": "12bb3248-968f-45d8-914c-74ddf5a92549"
      },
      "source": [
        "# print type of b\n",
        "print(type(b))"
      ],
      "execution_count": 6,
      "outputs": [
        {
          "output_type": "stream",
          "text": [
            "<class 'str'>\n"
          ],
          "name": "stdout"
        }
      ]
    },
    {
      "cell_type": "code",
      "metadata": {
        "id": "4MKqLVSLb3ub"
      },
      "source": [
        "# swap the values of a and b\n",
        "a = 'city'\n",
        "b = 5"
      ],
      "execution_count": 11,
      "outputs": []
    },
    {
      "cell_type": "code",
      "metadata": {
        "colab": {
          "base_uri": "https://localhost:8080/"
        },
        "id": "eTh1KnRub3ug",
        "outputId": "833f6949-df95-42e2-b721-cf5fb3ca160f"
      },
      "source": [
        "# run this to confirm \n",
        "print(\"a = \", a,  \",\", \"b = \", b)"
      ],
      "execution_count": 10,
      "outputs": [
        {
          "output_type": "stream",
          "text": [
            "a =  5 , b =  city\n"
          ],
          "name": "stdout"
        }
      ]
    },
    {
      "cell_type": "markdown",
      "metadata": {
        "id": "zTsLCMkRb3ul"
      },
      "source": [
        "Cool! so variable declaration and getting it's type was easy."
      ]
    },
    {
      "cell_type": "markdown",
      "metadata": {
        "id": "RddVk44Hb3up"
      },
      "source": [
        "## Arithmetic Operations"
      ]
    },
    {
      "cell_type": "markdown",
      "metadata": {
        "id": "Uwcm0wbGb3us"
      },
      "source": [
        "Hey novice! this will be easy for you until you know basic arithmetic symbols like +, -, /, * etc.\n",
        "\n",
        "reference:- https://youtu.be/0-hzxfkpHy8\n",
        "\n",
        "<p style='text-align: right;'> 1 + 7 = 8 points </p>\n"
      ]
    },
    {
      "cell_type": "code",
      "metadata": {
        "colab": {
          "base_uri": "https://localhost:8080/"
        },
        "id": "_iA3B0Ztb3uw",
        "outputId": "1e1c3576-27ce-4b45-8d6f-7f35fa681028"
      },
      "source": [
        "# declare two variables, a = 24, b = 3\n",
        "\n",
        "a = 24 # your code here\n",
        "b = 3 # your code here\n",
        "print('a = {}, b = {}'.format(a,b))"
      ],
      "execution_count": 39,
      "outputs": [
        {
          "output_type": "stream",
          "text": [
            "a = 24, b = 3\n"
          ],
          "name": "stdout"
        }
      ]
    },
    {
      "cell_type": "code",
      "metadata": {
        "colab": {
          "base_uri": "https://localhost:8080/"
        },
        "id": "duCJvEAEb3u0",
        "outputId": "06dfc6eb-0b19-43b3-a505-7950721d951b"
      },
      "source": [
        "# calculate and print all the possible numerical operations on a and b (There are total 7 operations)\n",
        "\n",
        "print('a + b = ', a + b)\n",
        "print('a - b = ', a - b)\n",
        "print('a * b = ', a * b)\n",
        "print('a / b = ', a / b)\n",
        "print('a % b = ', a % b)\n",
        "print('a // b = ', a // b)\n",
        "print('a ^ b = ', a ** b)\n"
      ],
      "execution_count": 40,
      "outputs": [
        {
          "output_type": "stream",
          "text": [
            "a + b =  27\n",
            "a - b =  21\n",
            "a * b =  72\n",
            "a / b =  8.0\n",
            "a % b =  0\n",
            "a // b =  8\n",
            "a ^ b =  13824\n"
          ],
          "name": "stdout"
        }
      ]
    },
    {
      "cell_type": "markdown",
      "metadata": {
        "id": "MxNq43Gyb3u4"
      },
      "source": [
        "## Math Functions"
      ]
    },
    {
      "cell_type": "markdown",
      "metadata": {
        "id": "5LVpcecKb3u6"
      },
      "source": [
        "Lets do some simple mathematical operations by using math module. Math module contains various mathematical functions. So here we go!\n",
        "\n",
        "Reference:- https://youtu.be/gktjNyV0xks\n",
        "\n",
        "Reference document: https://docs.python.org/3/library/math.html\n",
        "<p style='text-align: right;'> 10 points </p>\n",
        "\n",
        "\n"
      ]
    },
    {
      "cell_type": "code",
      "metadata": {
        "id": "JipdAJTnb3u8"
      },
      "source": [
        "#import math\n",
        "import math"
      ],
      "execution_count": 19,
      "outputs": []
    },
    {
      "cell_type": "code",
      "metadata": {
        "id": "4cMLyiAGb3u9"
      },
      "source": [
        "# declare a variable x = 2 and y=5.32167\n",
        "x = 2\n",
        "y = 5.32167"
      ],
      "execution_count": 21,
      "outputs": []
    },
    {
      "cell_type": "code",
      "metadata": {
        "colab": {
          "base_uri": "https://localhost:8080/"
        },
        "id": "IxGPzCgEb3u-",
        "outputId": "0417b2a1-a8b9-4d92-a07d-6da11dea51fc"
      },
      "source": [
        "# Print the maximum value between x and y\n",
        "print(max(x,y))"
      ],
      "execution_count": 22,
      "outputs": [
        {
          "output_type": "stream",
          "text": [
            "5.32167\n"
          ],
          "name": "stdout"
        }
      ]
    },
    {
      "cell_type": "code",
      "metadata": {
        "colab": {
          "base_uri": "https://localhost:8080/"
        },
        "id": "PabXI8a4b3vA",
        "outputId": "4b6cb146-f5f3-49d7-ca9c-97ec02f06e35"
      },
      "source": [
        "# Print the minimum value between x and y\n",
        "print(min(x,y))"
      ],
      "execution_count": 23,
      "outputs": [
        {
          "output_type": "stream",
          "text": [
            "2\n"
          ],
          "name": "stdout"
        }
      ]
    },
    {
      "cell_type": "code",
      "metadata": {
        "colab": {
          "base_uri": "https://localhost:8080/"
        },
        "id": "zTBrzi9cb3vC",
        "outputId": "3520ca95-13bd-4e8f-87f9-e408b4b7b51f"
      },
      "source": [
        "# Print square and cube of x and store in a and b variable\n",
        "print(pow(x,2))\n",
        "print(pow(x,3))"
      ],
      "execution_count": 26,
      "outputs": [
        {
          "output_type": "stream",
          "text": [
            "4\n",
            "8\n"
          ],
          "name": "stdout"
        }
      ]
    },
    {
      "cell_type": "code",
      "metadata": {
        "colab": {
          "base_uri": "https://localhost:8080/"
        },
        "id": "-5P0Lzi9b3vE",
        "outputId": "9df92829-7d98-41a8-ea7d-e71f49789e74"
      },
      "source": [
        "#print log of x and store it in variable c\n",
        "c = math.log(x)\n",
        "print(c)"
      ],
      "execution_count": 27,
      "outputs": [
        {
          "output_type": "stream",
          "text": [
            "0.6931471805599453\n"
          ],
          "name": "stdout"
        }
      ]
    },
    {
      "cell_type": "code",
      "metadata": {
        "colab": {
          "base_uri": "https://localhost:8080/"
        },
        "id": "CiRa6mgtb3vH",
        "outputId": "6b914307-a8ec-4ba1-b0c0-677a5903c454"
      },
      "source": [
        "#print minimum value between x,y,a, b and c\n",
        "print(min(x,y,a,b,c))"
      ],
      "execution_count": 28,
      "outputs": [
        {
          "output_type": "stream",
          "text": [
            "0.6931471805599453\n"
          ],
          "name": "stdout"
        }
      ]
    },
    {
      "cell_type": "code",
      "metadata": {
        "colab": {
          "base_uri": "https://localhost:8080/"
        },
        "id": "4vUeJireb3vJ",
        "outputId": "2a7d6ab7-0935-48f2-b880-72bec0dec8ea"
      },
      "source": [
        "#print maximum value between x,y,a, b and c\n",
        "print(max(x,y,a,b,c))"
      ],
      "execution_count": 29,
      "outputs": [
        {
          "output_type": "stream",
          "text": [
            "24\n"
          ],
          "name": "stdout"
        }
      ]
    },
    {
      "cell_type": "code",
      "metadata": {
        "colab": {
          "base_uri": "https://localhost:8080/"
        },
        "id": "NPiUSI6zb3vL",
        "outputId": "d2a7371b-f763-4ee9-aa38-f1c08ec9516a"
      },
      "source": [
        "#print the largest integer that is smaller than or equal to c. ie.round down\n",
        "print(math.floor(c))"
      ],
      "execution_count": 31,
      "outputs": [
        {
          "output_type": "stream",
          "text": [
            "0\n"
          ],
          "name": "stdout"
        }
      ]
    },
    {
      "cell_type": "code",
      "metadata": {
        "colab": {
          "base_uri": "https://localhost:8080/"
        },
        "id": "4OuVSRMZb3vN",
        "outputId": "53fc5312-d302-4d4e-ca5b-f1986950d8c1"
      },
      "source": [
        "#print the smallest integer that is greater than or equal to c ie. round up\n",
        "print(math.ceil(c))"
      ],
      "execution_count": 32,
      "outputs": [
        {
          "output_type": "stream",
          "text": [
            "1\n"
          ],
          "name": "stdout"
        }
      ]
    },
    {
      "cell_type": "markdown",
      "metadata": {
        "id": "-qdb4d-nb3vP"
      },
      "source": [
        "## Logical operations\n",
        "\n",
        "You must be aware of some logical operations you did in college, like 'and', 'or', 'not' etc. These operations becomes even more easy to implement when you have friend like python.\n",
        "\n",
        "Reference:- https://youtu.be/9w992l9TFIs\n",
        "\n",
        "<p style='text-align: right;'> 1 + 1 + 1 + 6 = 9 points </p>\n"
      ]
    },
    {
      "cell_type": "code",
      "metadata": {
        "colab": {
          "base_uri": "https://localhost:8080/"
        },
        "id": "b7eWrMxHb3vQ",
        "outputId": "fffb56a4-d93f-4146-c9c6-67f748eb8c31"
      },
      "source": [
        "# declare two variables, a = True, b = False\n",
        "a = True #your code here\n",
        "b = False #your code here\n",
        "print(a)\n",
        "print(b)"
      ],
      "execution_count": 33,
      "outputs": [
        {
          "output_type": "stream",
          "text": [
            "True\n",
            "False\n"
          ],
          "name": "stdout"
        }
      ]
    },
    {
      "cell_type": "code",
      "metadata": {
        "colab": {
          "base_uri": "https://localhost:8080/"
        },
        "id": "0eaJJaBib3vS",
        "outputId": "4bfeb5f9-555d-4c70-8932-e9a45ae3d556"
      },
      "source": [
        "# print type of a and type of b\n",
        "print(type(a))\n",
        "print(type(b))"
      ],
      "execution_count": 34,
      "outputs": [
        {
          "output_type": "stream",
          "text": [
            "<class 'bool'>\n",
            "<class 'bool'>\n"
          ],
          "name": "stdout"
        }
      ]
    },
    {
      "cell_type": "markdown",
      "metadata": {
        "id": "MM7F1vaJb3vU"
      },
      "source": [
        "A fun fact for you !\n",
        "The Python Boolean type is one of Python's built-in data types. It's used to represent the truth value of an expression"
      ]
    },
    {
      "cell_type": "code",
      "metadata": {
        "colab": {
          "base_uri": "https://localhost:8080/"
        },
        "id": "hOaYzUdob3vV",
        "outputId": "33c82a60-3534-4d58-ed01-24e5d46d67cb"
      },
      "source": [
        "# print int(a) and int(b)\n",
        "print(\"int of a is  \",int(a))\n",
        "print(\"int of b is  \",int(b))"
      ],
      "execution_count": 36,
      "outputs": [
        {
          "output_type": "stream",
          "text": [
            "int of a is   1\n",
            "int of b is   0\n"
          ],
          "name": "stdout"
        }
      ]
    },
    {
      "cell_type": "markdown",
      "metadata": {
        "id": "nbcL4c6cb3vW"
      },
      "source": [
        "We are sure you must have seen that, values for 'True' is 1 and for 'False' is 0."
      ]
    },
    {
      "cell_type": "code",
      "metadata": {
        "colab": {
          "base_uri": "https://localhost:8080/"
        },
        "id": "tff-1noyb3vX",
        "outputId": "815b7073-f840-4041-e0f0-c82eef0e72e3"
      },
      "source": [
        "# Find and print the values of not a, not b, a and b, a or b, a and not b\n",
        "print(\"not a = \", not a)\n",
        "print(\"not b = \", not b)\n",
        "print(\"a and b = \", a and b)\n",
        "print(\"a or b = \", a or b)\n",
        "print(\"a and not b = \", a and not b)"
      ],
      "execution_count": 37,
      "outputs": [
        {
          "output_type": "stream",
          "text": [
            "not a =  False\n",
            "not b =  True\n",
            "a and b =  False\n",
            "a or b =  True\n",
            "a and not b =  True\n"
          ],
          "name": "stdout"
        }
      ]
    },
    {
      "cell_type": "markdown",
      "metadata": {
        "id": "fMX7IcURb3vY"
      },
      "source": [
        "We hope you tried to undertand the above output! "
      ]
    },
    {
      "cell_type": "markdown",
      "metadata": {
        "id": "iWweR7GEb3vZ"
      },
      "source": [
        "## List Comprehensions\n",
        "\n",
        "Hey buddy! Python has really amazing thing called list comprehension. List comprehension offers a shorter syntax when you want to create a new list based on the values of an existing list. Cool right? Let's dive into this more by doing it. \n",
        "\n",
        "Reference:- https://youtu.be/17gTGqHG5xQ\n",
        "\n",
        "<p style='text-align: right;'> 10 + 10 + 10= 30 points </p>\n",
        "\n"
      ]
    },
    {
      "cell_type": "code",
      "metadata": {
        "colab": {
          "base_uri": "https://localhost:8080/"
        },
        "id": "m8np8-Nob3va",
        "outputId": "d175251e-634c-4391-a2bc-0854e4af7a36"
      },
      "source": [
        "# Using list comprehension, create a list containing numbers from 1 to 20. \n",
        "# Hint: You can use range function of python to do this.\n",
        "[x for x in range(1,21)]"
      ],
      "execution_count": 40,
      "outputs": [
        {
          "output_type": "execute_result",
          "data": {
            "text/plain": [
              "[1, 2, 3, 4, 5, 6, 7, 8, 9, 10, 11, 12, 13, 14, 15, 16, 17, 18, 19, 20]"
            ]
          },
          "metadata": {
            "tags": []
          },
          "execution_count": 40
        }
      ]
    },
    {
      "cell_type": "code",
      "metadata": {
        "colab": {
          "base_uri": "https://localhost:8080/"
        },
        "id": "4QMO8PX2b3vc",
        "outputId": "0cbaeb20-7030-408b-c528-b06170198827"
      },
      "source": [
        "# Using list comprehension, create a list containing numbers from 1 to 20 that are even\n",
        "\n",
        "[x for x in range(1,21) if x %2 == 0]"
      ],
      "execution_count": 44,
      "outputs": [
        {
          "output_type": "execute_result",
          "data": {
            "text/plain": [
              "[2, 4, 6, 8, 10, 12, 14, 16, 18, 20]"
            ]
          },
          "metadata": {
            "tags": []
          },
          "execution_count": 44
        }
      ]
    },
    {
      "cell_type": "markdown",
      "metadata": {
        "id": "SbPWwvpgb3vd"
      },
      "source": [
        "Create a list of all the fruits you like. Using list comprehension, create another list which contains the total number of charachters for each corresponding fruits.\n",
        "- Eg. fruits = [‘apple’,’kiwi’,’orange’], then output would be - [5,4,6]\n"
      ]
    },
    {
      "cell_type": "code",
      "metadata": {
        "colab": {
          "base_uri": "https://localhost:8080/"
        },
        "id": "p1RApRqXb3vf",
        "outputId": "0e4d557a-ef53-4e1b-c290-181c79a481d2"
      },
      "source": [
        "fruits = ['apple','kiwi','orange'] # your code here (create a list of your favourite fruits)\n",
        "len_fruits =  [len(x) for x in fruits] # your code here\n",
        "\n",
        "print(fruits)\n",
        "print(len_fruits)"
      ],
      "execution_count": 48,
      "outputs": [
        {
          "output_type": "stream",
          "text": [
            "['apple', 'kiwi', 'orange']\n",
            "[5, 4, 6]\n"
          ],
          "name": "stdout"
        }
      ]
    },
    {
      "cell_type": "markdown",
      "metadata": {
        "id": "QckEpVDxb3vh"
      },
      "source": [
        "The above output is shown if fruits = ['apple','kiwi,'orange'], it can vary for different values of fruits\n",
        "\n",
        "Amazing right?\n"
      ]
    },
    {
      "cell_type": "markdown",
      "metadata": {
        "id": "LuuPApl0b3vj"
      },
      "source": [
        "## String value and operators\n",
        "\n",
        "<p style='text-align: right;'> 1 + 1 + 1 + 1 + 1 = 5 points </p>\n"
      ]
    },
    {
      "cell_type": "markdown",
      "metadata": {
        "id": "H5pkVLjnb3vl"
      },
      "source": [
        "### Characters in strings\n",
        "\n",
        "\n",
        "Reference:- https://www.programiz.com/python-programming/string\n",
        "\n",
        "Reference:-  https://youtu.be/LnQDWIMaJlA\n"
      ]
    },
    {
      "cell_type": "code",
      "metadata": {
        "colab": {
          "base_uri": "https://localhost:8080/"
        },
        "id": "6u3h5uHHb3vm",
        "outputId": "0b51812f-b3f7-4e79-9cfd-968a44b47ce4"
      },
      "source": [
        "# declare the variables x = cat and y = dog and print it\n",
        "x = 'cat' #your code here\n",
        "y = 'dog' #your code here\n",
        "\n",
        "print(x)\n",
        "print(y)"
      ],
      "execution_count": 51,
      "outputs": [
        {
          "output_type": "stream",
          "text": [
            "cat\n",
            "dog\n"
          ],
          "name": "stdout"
        }
      ]
    },
    {
      "cell_type": "code",
      "metadata": {
        "colab": {
          "base_uri": "https://localhost:8080/"
        },
        "id": "Qcf6mjslb3vn",
        "outputId": "7b6ec6f3-82bb-4c5b-fc70-ab1e336ae7e1"
      },
      "source": [
        "#Print first character of both x and y. \n",
        "print('First ch of x = ',x[0])\n",
        "print('First ch of y = ',y[0])"
      ],
      "execution_count": 52,
      "outputs": [
        {
          "output_type": "stream",
          "text": [
            "First ch of x =  c\n",
            "First ch of y =  d\n"
          ],
          "name": "stdout"
        }
      ]
    },
    {
      "cell_type": "code",
      "metadata": {
        "colab": {
          "base_uri": "https://localhost:8080/"
        },
        "id": "MimsmgHUb3vo",
        "outputId": "548d4d0a-e942-4ef4-9906-ed7293b79e0c"
      },
      "source": [
        "#Print last character of both x and y.\n",
        "print('First ch of x = ',x[-1])\n",
        "print('First ch of y = ',y[-1])"
      ],
      "execution_count": 53,
      "outputs": [
        {
          "output_type": "stream",
          "text": [
            "First ch of x =  t\n",
            "First ch of y =  g\n"
          ],
          "name": "stdout"
        }
      ]
    },
    {
      "cell_type": "code",
      "metadata": {
        "colab": {
          "base_uri": "https://localhost:8080/"
        },
        "id": "jFW446Nsb3vq",
        "outputId": "d6ef571a-a3fe-4a71-d307-b29a9a6ebf41"
      },
      "source": [
        "#Print len of both x and y\n",
        "print('First ch of x = ',len(x))\n",
        "print('First ch of y = ',len(y))"
      ],
      "execution_count": 54,
      "outputs": [
        {
          "output_type": "stream",
          "text": [
            "First ch of x =  3\n",
            "First ch of y =  3\n"
          ],
          "name": "stdout"
        }
      ]
    },
    {
      "cell_type": "code",
      "metadata": {
        "colab": {
          "base_uri": "https://localhost:8080/"
        },
        "id": "o1Cf9Surb3vr",
        "outputId": "a7a8bc43-6391-448f-cd93-dce7b9f05262"
      },
      "source": [
        "#concatenate both x and y and store it in variable z and print z\n",
        "z = x + y\n",
        "print (z)"
      ],
      "execution_count": 55,
      "outputs": [
        {
          "output_type": "stream",
          "text": [
            "catdog\n"
          ],
          "name": "stdout"
        }
      ]
    },
    {
      "cell_type": "code",
      "metadata": {
        "colab": {
          "base_uri": "https://localhost:8080/"
        },
        "id": "vQHN9wpub3vs",
        "outputId": "38f1a2c5-0712-4f82-bb64-581fadf5bad4"
      },
      "source": [
        "#check if x is part of z \n",
        "x in z"
      ],
      "execution_count": 56,
      "outputs": [
        {
          "output_type": "execute_result",
          "data": {
            "text/plain": [
              "True"
            ]
          },
          "metadata": {
            "tags": []
          },
          "execution_count": 56
        }
      ]
    },
    {
      "cell_type": "markdown",
      "metadata": {
        "id": "5s0Mti1gb3vt"
      },
      "source": [
        "### String slicing\n",
        "\n",
        "\n",
        "\n",
        "Hey coder, do you know? Python slicing is about obtaining a sub-string from the given string by slicing it respectively from start to end\n",
        "\n",
        "So be ready to implement it today!\n",
        "<p style='text-align: right;'> 2 points </p>"
      ]
    },
    {
      "cell_type": "code",
      "metadata": {
        "colab": {
          "base_uri": "https://localhost:8080/"
        },
        "id": "dN8pMXdlb3vu",
        "outputId": "0fca9176-d3ff-4e27-b26e-71e94d929457"
      },
      "source": [
        "#Create variable a = “pineapple”\n",
        "a = \"pineapple\" # your code here\n",
        "print(a)"
      ],
      "execution_count": 57,
      "outputs": [
        {
          "output_type": "stream",
          "text": [
            "pineapple\n"
          ],
          "name": "stdout"
        }
      ]
    },
    {
      "cell_type": "code",
      "metadata": {
        "colab": {
          "base_uri": "https://localhost:8080/"
        },
        "id": "ji7veSdvb3vv",
        "outputId": "e6448f6b-1a90-47a7-e551-698a1240530b"
      },
      "source": [
        "# Using index slicing, print the words ‘pine’ and “apple”.\n",
        "# HINT - a[:]\n",
        "print(a[:4])\n",
        "print(a[4:])"
      ],
      "execution_count": 60,
      "outputs": [
        {
          "output_type": "stream",
          "text": [
            "pine\n",
            "apple\n"
          ],
          "name": "stdout"
        }
      ]
    },
    {
      "cell_type": "code",
      "metadata": {
        "colab": {
          "base_uri": "https://localhost:8080/",
          "height": 35
        },
        "id": "YQwnTi0Sb3vw",
        "outputId": "c78c1ecb-15dd-4445-8e33-2cac87ed7797"
      },
      "source": [
        "#Convert a into upper case\n",
        "a.upper()"
      ],
      "execution_count": 61,
      "outputs": [
        {
          "output_type": "execute_result",
          "data": {
            "application/vnd.google.colaboratory.intrinsic+json": {
              "type": "string"
            },
            "text/plain": [
              "'PINEAPPLE'"
            ]
          },
          "metadata": {
            "tags": []
          },
          "execution_count": 61
        }
      ]
    },
    {
      "cell_type": "markdown",
      "metadata": {
        "id": "yWYOg714b3vx"
      },
      "source": [
        "## Dealing with Sentences\n",
        "\n",
        "<p style='text-align: right;'> 1+1+1+1+1+1 = 6 points </p>\n"
      ]
    },
    {
      "cell_type": "code",
      "metadata": {
        "colab": {
          "base_uri": "https://localhost:8080/"
        },
        "id": "_f82EdFgb3vy",
        "outputId": "e7c62674-9eba-472c-c435-7a83e5a07b8c"
      },
      "source": [
        "# Declare a sentence of ‘I am flying to London’ and print it\n",
        "print('I am flying to London')"
      ],
      "execution_count": 62,
      "outputs": [
        {
          "output_type": "stream",
          "text": [
            "I am flying to London\n"
          ],
          "name": "stdout"
        }
      ]
    },
    {
      "cell_type": "code",
      "metadata": {
        "colab": {
          "base_uri": "https://localhost:8080/"
        },
        "id": "N2iXD5gSb3v0",
        "outputId": "988c3774-58f4-4d33-8990-f6fbf16fc305"
      },
      "source": [
        "#Print length of the sentence\n",
        "print('Len of sentence is  ',len('I am flying to London'))"
      ],
      "execution_count": 63,
      "outputs": [
        {
          "output_type": "stream",
          "text": [
            "Len of sentence is   21\n"
          ],
          "name": "stdout"
        }
      ]
    },
    {
      "cell_type": "code",
      "metadata": {
        "colab": {
          "base_uri": "https://localhost:8080/",
          "height": 35
        },
        "id": "fylVL8Wib3v1",
        "outputId": "e7d42c3c-d427-4ee8-d342-facff4e0e94c"
      },
      "source": [
        "#Using list indexing, to print the word London\n",
        "'I am flying to London'.split()[-1]"
      ],
      "execution_count": 69,
      "outputs": [
        {
          "output_type": "execute_result",
          "data": {
            "application/vnd.google.colaboratory.intrinsic+json": {
              "type": "string"
            },
            "text/plain": [
              "'London'"
            ]
          },
          "metadata": {
            "tags": []
          },
          "execution_count": 69
        }
      ]
    },
    {
      "cell_type": "code",
      "metadata": {
        "colab": {
          "base_uri": "https://localhost:8080/"
        },
        "id": "0U1h31xJb3v2",
        "outputId": "bd8e04e9-d224-477c-a8e7-7832a6369a35"
      },
      "source": [
        "# Use .split to get list of individual words in the sentence\n",
        "'I am flying to London'.split()"
      ],
      "execution_count": 70,
      "outputs": [
        {
          "output_type": "execute_result",
          "data": {
            "text/plain": [
              "['I', 'am', 'flying', 'to', 'London']"
            ]
          },
          "metadata": {
            "tags": []
          },
          "execution_count": 70
        }
      ]
    },
    {
      "cell_type": "code",
      "metadata": {
        "colab": {
          "base_uri": "https://localhost:8080/",
          "height": 35
        },
        "id": "380R2CHwb3v3",
        "outputId": "4b50720b-99c4-4051-8438-71faae2ad550"
      },
      "source": [
        "# Convert sentence in lower case \n",
        "'I am flying to London'.lower()"
      ],
      "execution_count": 71,
      "outputs": [
        {
          "output_type": "execute_result",
          "data": {
            "application/vnd.google.colaboratory.intrinsic+json": {
              "type": "string"
            },
            "text/plain": [
              "'i am flying to london'"
            ]
          },
          "metadata": {
            "tags": []
          },
          "execution_count": 71
        }
      ]
    },
    {
      "cell_type": "code",
      "metadata": {
        "colab": {
          "base_uri": "https://localhost:8080/",
          "height": 35
        },
        "id": "taaq4LP-b3v5",
        "outputId": "a0486d2d-a87f-4ad7-98bc-60b869f498eb"
      },
      "source": [
        "# Convert sentence in upper case .\n",
        "'I am flying to London'.upper()"
      ],
      "execution_count": 72,
      "outputs": [
        {
          "output_type": "execute_result",
          "data": {
            "application/vnd.google.colaboratory.intrinsic+json": {
              "type": "string"
            },
            "text/plain": [
              "'I AM FLYING TO LONDON'"
            ]
          },
          "metadata": {
            "tags": []
          },
          "execution_count": 72
        }
      ]
    },
    {
      "cell_type": "markdown",
      "metadata": {
        "id": "82baYcgmb3v6"
      },
      "source": [
        "Great job! Slicing is fun."
      ]
    },
    {
      "cell_type": "markdown",
      "metadata": {
        "id": "koto0vxlb3v6"
      },
      "source": [
        "## Functions\n",
        "\n",
        "Declare a function named square, which takes an input as x, and returns the square of x.\n",
        "\n",
        "Reference:- https://youtu.be/Rpq9MC67M08\n",
        "\n",
        "<p style='text-align: right;'> 5 + 3 = 8 points </p>\n"
      ]
    },
    {
      "cell_type": "code",
      "metadata": {
        "colab": {
          "base_uri": "https://localhost:8080/"
        },
        "id": "76HfoNqzb3v8",
        "outputId": "49a26ecb-f35d-4e46-c2a2-fe98f48c1e51"
      },
      "source": [
        "def square(x):\n",
        "  print('Square of ', x, ' is :',x**2)\n",
        "\n",
        "square(9)\n",
        "    "
      ],
      "execution_count": 3,
      "outputs": [
        {
          "output_type": "stream",
          "text": [
            "Square of  9  is : 81\n"
          ],
          "name": "stdout"
        }
      ]
    },
    {
      "cell_type": "markdown",
      "metadata": {
        "id": "fKW-yM0pb3v9"
      },
      "source": [
        "Call the function to find the value of square of 9."
      ]
    },
    {
      "cell_type": "code",
      "metadata": {
        "id": "_TBXZxHbb3v9",
        "outputId": "5ea40b6a-098d-4c92-80b5-b515bbbc2bf8"
      },
      "source": [
        "# find the square of 9 using the function square you have just created.\n"
      ],
      "execution_count": null,
      "outputs": [
        {
          "output_type": "stream",
          "text": [
            "Square of 9 is 81\n"
          ],
          "name": "stdout"
        }
      ]
    },
    {
      "cell_type": "markdown",
      "metadata": {
        "id": "8HsMtw8Fb3v-"
      },
      "source": [
        "Wohoo! see, defining function was simple"
      ]
    },
    {
      "cell_type": "markdown",
      "metadata": {
        "id": "W1fBXQYab3v_"
      },
      "source": [
        "#### Define another function which checks whether a given is number is odd or even for a given input and it should print whether the  number is odd or even as an output\n",
        "<p style='text-align: right;'> 5 + 3 = 8 points </p>\n"
      ]
    },
    {
      "cell_type": "code",
      "metadata": {
        "colab": {
          "base_uri": "https://localhost:8080/"
        },
        "id": "wE_QVqI5b3wA",
        "outputId": "1c83c60c-a95a-4cfc-ea4a-a2665cfe1ab7"
      },
      "source": [
        "# your code here\n",
        "def oddeven(num):\n",
        "  if num % 2 == 0:\n",
        "    print(num,\" : is an Even number!\")\n",
        "  else:\n",
        "    print(num,\" : is an Odd number!\")\n",
        "\n",
        "oddeven(3)\n",
        "oddeven(6)\n",
        "oddeven(21)"
      ],
      "execution_count": 9,
      "outputs": [
        {
          "output_type": "stream",
          "text": [
            "3  : is an Odd number!\n",
            "6  : is an Even number!\n",
            "21  : is an Odd number!\n"
          ],
          "name": "stdout"
        }
      ]
    },
    {
      "cell_type": "markdown",
      "metadata": {
        "id": "Qa0w4W37b3wB"
      },
      "source": [
        "Hey smarty! lets use both the functions together to check whether the square of 3,6 and 21 are odd or even.\n"
      ]
    },
    {
      "cell_type": "code",
      "metadata": {
        "colab": {
          "base_uri": "https://localhost:8080/"
        },
        "id": "GAtU_-tSb3wC",
        "outputId": "8ed9fed1-fd87-4979-a84d-c23110c3ff13"
      },
      "source": [
        " # your code here\n",
        "def oddevensq(num):\n",
        "  if (num**2) % 2 == 0:\n",
        "    print(num**2,\" is Even\")\n",
        "  else:\n",
        "    print(num**2,\" is Odd\")\n",
        "\n",
        "oddevensq(3)\n",
        "oddevensq(6)\n",
        "oddevensq(21)"
      ],
      "execution_count": 10,
      "outputs": [
        {
          "output_type": "stream",
          "text": [
            "9  is Odd\n",
            "36  is Even\n",
            "441  is Odd\n"
          ],
          "name": "stdout"
        }
      ]
    },
    {
      "cell_type": "markdown",
      "metadata": {
        "id": "Wczcy5l7b3wD"
      },
      "source": [
        "hey hey! You did a great code. Did you see the benefit of using functions"
      ]
    },
    {
      "cell_type": "markdown",
      "metadata": {
        "id": "arBfBYfKb3wE"
      },
      "source": [
        "# Loops and Iterations\n",
        "Reference:- https://youtu.be/6iF8Xb7Z3wQ"
      ]
    },
    {
      "cell_type": "markdown",
      "metadata": {
        "id": "rltBEZFqb3wF"
      },
      "source": [
        "## If statement\n",
        "\n",
        "<p style='text-align: right;'> 1 + 2 + 3 = 6 points </p>\n"
      ]
    },
    {
      "cell_type": "code",
      "metadata": {
        "colab": {
          "base_uri": "https://localhost:8080/"
        },
        "id": "D4plVXxHb3wG",
        "outputId": "1e4af114-8056-4c25-d8d4-c967ed6e5d7f"
      },
      "source": [
        "#Declare a variable x equal to a number of your choice.\n",
        "#your code here\n",
        "x = 3 # add a number of your choice (mine is 3 :) )\n",
        "print(x)"
      ],
      "execution_count": 11,
      "outputs": [
        {
          "output_type": "stream",
          "text": [
            "3\n"
          ],
          "name": "stdout"
        }
      ]
    },
    {
      "cell_type": "code",
      "metadata": {
        "colab": {
          "base_uri": "https://localhost:8080/"
        },
        "id": "moUoxjCAb3wH",
        "outputId": "647f018b-ceff-425f-8aaa-75b9703c4459"
      },
      "source": [
        "#Using an if statement, print whether x is zero, positive or negative.\n",
        "if x < 0:\n",
        "  print(x,\" is negative\")\n",
        "elif x > 0:\n",
        "  print(x,\" is positive\")\n",
        "else:\n",
        "  print(x,\" is zero\")"
      ],
      "execution_count": 12,
      "outputs": [
        {
          "output_type": "stream",
          "text": [
            "3  is positive\n"
          ],
          "name": "stdout"
        }
      ]
    },
    {
      "cell_type": "code",
      "metadata": {
        "colab": {
          "base_uri": "https://localhost:8080/"
        },
        "id": "Uti5vWtub3wI",
        "outputId": "aba49797-9e47-4451-a74b-83148e4c0f4a"
      },
      "source": [
        "# Now Define a function, which takes input from the user and prints whether the given input is zero,positive or negative.\n",
        "def check_num(x):\n",
        "  if x < 0:\n",
        "    print(x,\" is negative\")\n",
        "  elif x > 0:\n",
        "    print(x,\" is positive\")\n",
        "  else:\n",
        "    print(x,\" is zero\")\n",
        "\n",
        "check_num(10)\n",
        "check_num(-2)\n",
        "check_num(0)"
      ],
      "execution_count": 13,
      "outputs": [
        {
          "output_type": "stream",
          "text": [
            "10  is positive\n",
            "-2  is negative\n",
            "0  is zero\n"
          ],
          "name": "stdout"
        }
      ]
    },
    {
      "cell_type": "markdown",
      "metadata": {
        "id": "K9m3_H-_b3wJ"
      },
      "source": [
        "## For loop"
      ]
    },
    {
      "cell_type": "markdown",
      "metadata": {
        "id": "CU6hHbpkb3wK"
      },
      "source": [
        "<p style='text-align: right;'> 2 points </p>\n"
      ]
    },
    {
      "cell_type": "code",
      "metadata": {
        "id": "oLKCBZFOb3wM"
      },
      "source": [
        "#Create a list x, such that it contains the elements - ‘India’, ‘Israel’,’Canada’.\n",
        "x = ['India','Israel','Canada']"
      ],
      "execution_count": 14,
      "outputs": []
    },
    {
      "cell_type": "code",
      "metadata": {
        "colab": {
          "base_uri": "https://localhost:8080/"
        },
        "id": "3eW_T4tgb3wN",
        "outputId": "5cee2465-7286-436f-8cf1-ae04dfdd63ed"
      },
      "source": [
        "#Using For loop, iterate over the list and print the elements.\n",
        "for i in x:\n",
        "  print(i)"
      ],
      "execution_count": 15,
      "outputs": [
        {
          "output_type": "stream",
          "text": [
            "India\n",
            "Israel\n",
            "Canada\n"
          ],
          "name": "stdout"
        }
      ]
    },
    {
      "cell_type": "markdown",
      "metadata": {
        "id": "Ux2ZjMSGb3wO"
      },
      "source": [
        "<p style='text-align: right;'> 2 points </p>\n"
      ]
    },
    {
      "cell_type": "code",
      "metadata": {
        "colab": {
          "base_uri": "https://localhost:8080/"
        },
        "id": "WU1kkHX2b3wQ",
        "outputId": "cedacfe7-588c-4af6-a8f8-d645fe212627"
      },
      "source": [
        "# Using For loop, print the table of 2.\n",
        "for i in range(2,11):\n",
        "  print(\"2 * \", i, \" = \",2*i)\n"
      ],
      "execution_count": 17,
      "outputs": [
        {
          "output_type": "stream",
          "text": [
            "2 *  2  =  4\n",
            "2 *  3  =  6\n",
            "2 *  4  =  8\n",
            "2 *  5  =  10\n",
            "2 *  6  =  12\n",
            "2 *  7  =  14\n",
            "2 *  8  =  16\n",
            "2 *  9  =  18\n",
            "2 *  10  =  20\n"
          ],
          "name": "stdout"
        }
      ]
    },
    {
      "cell_type": "markdown",
      "metadata": {
        "id": "4y-NYea6b3wR"
      },
      "source": [
        "For a given list, x = [21, ‘hello,’cream’, 20,19,’village’], using for loop to iterate over the items and using - if statement print the items that are of type int"
      ]
    },
    {
      "cell_type": "code",
      "metadata": {
        "colab": {
          "base_uri": "https://localhost:8080/"
        },
        "id": "GqUFP49mb3wT",
        "outputId": "9b2f5139-2e42-4d35-d67e-8b682d0a060b"
      },
      "source": [
        "#code here\n",
        "x = [21, 'hello','cream', 20,19,'village']\n",
        "[i for i in x if type(i) == int]"
      ],
      "execution_count": 22,
      "outputs": [
        {
          "output_type": "execute_result",
          "data": {
            "text/plain": [
              "[21, 20, 19]"
            ]
          },
          "metadata": {
            "tags": []
          },
          "execution_count": 22
        }
      ]
    },
    {
      "cell_type": "markdown",
      "metadata": {
        "id": "rlBl4rdWb3wU"
      },
      "source": [
        "Using For loop, lets create a pattern. "
      ]
    },
    {
      "cell_type": "markdown",
      "metadata": {
        "id": "PYCP6NnDb3wV"
      },
      "source": [
        "<p style='text-align: right;'> 10 points </p>\n"
      ]
    },
    {
      "cell_type": "code",
      "metadata": {
        "colab": {
          "base_uri": "https://localhost:8080/"
        },
        "id": "qafF3czjb3wW",
        "outputId": "22bc5555-2ce3-4d32-aab8-cb9328824343"
      },
      "source": [
        "# print the following pattern\n",
        "for i in range(1,6):\n",
        "    print(i*' *')"
      ],
      "execution_count": 24,
      "outputs": [
        {
          "output_type": "stream",
          "text": [
            " *\n",
            " * *\n",
            " * * *\n",
            " * * * *\n",
            " * * * * *\n"
          ],
          "name": "stdout"
        }
      ]
    },
    {
      "cell_type": "markdown",
      "metadata": {
        "id": "MA2iaKjCb3wX"
      },
      "source": [
        "## While loop"
      ]
    },
    {
      "cell_type": "markdown",
      "metadata": {
        "id": "MbpWV6hYb3wY"
      },
      "source": [
        "- Using while loop make a function that prints all the values between 1 to n. "
      ]
    },
    {
      "cell_type": "markdown",
      "metadata": {
        "id": "mIhiuFeTb3wY"
      },
      "source": [
        "<p style='text-align: right;'> 10 points </p>\n"
      ]
    },
    {
      "cell_type": "code",
      "metadata": {
        "colab": {
          "base_uri": "https://localhost:8080/"
        },
        "id": "aQFnLnRWb3wZ",
        "outputId": "9939c994-cfcb-4658-9f10-1cbf0b5093f2"
      },
      "source": [
        "def counter(n):\n",
        " # add your code here\n",
        " i = 1\n",
        " while i < n:\n",
        "   print(i)\n",
        "   i+=1\n",
        "counter(10)"
      ],
      "execution_count": 27,
      "outputs": [
        {
          "output_type": "stream",
          "text": [
            "1\n",
            "2\n",
            "3\n",
            "4\n",
            "5\n",
            "6\n",
            "7\n",
            "8\n",
            "9\n"
          ],
          "name": "stdout"
        }
      ]
    },
    {
      "cell_type": "code",
      "metadata": {
        "id": "fxrBtF6Eb3wa",
        "outputId": "40d6c83b-6a4a-4da5-f09a-c1e66d42f351"
      },
      "source": [
        "counter(10) #this should print numbers from 1 to 10"
      ],
      "execution_count": null,
      "outputs": [
        {
          "output_type": "stream",
          "text": [
            "1\n",
            "2\n",
            "3\n",
            "4\n",
            "5\n",
            "6\n",
            "7\n",
            "8\n",
            "9\n"
          ],
          "name": "stdout"
        }
      ]
    },
    {
      "cell_type": "markdown",
      "metadata": {
        "id": "JQyzehiBb3wb"
      },
      "source": [
        "### Write the code for the following, what is the output obtained?\n",
        "- Set a variable flag = True, num = 5\n",
        "- Run a while loop till flag = True\n",
        "- Inside the while loop - \n",
        "    - Increment the value of num by 5\n",
        "    - If value of num is greater then 50, set flag to be False"
      ]
    },
    {
      "cell_type": "code",
      "metadata": {
        "colab": {
          "base_uri": "https://localhost:8080/"
        },
        "id": "bOMjf8xUb3wc",
        "outputId": "80100ac2-2621-402d-cf2b-e6a0c9cb0aef"
      },
      "source": [
        "# your code here\n",
        "num = 5\n",
        "flag = True\n",
        "while flag:\n",
        "  print(num)\n",
        "  num += 5\n",
        "  if num > 50:\n",
        "    flag = False\n",
        "\n"
      ],
      "execution_count": 35,
      "outputs": [
        {
          "output_type": "stream",
          "text": [
            "5\n",
            "10\n",
            "15\n",
            "20\n",
            "25\n",
            "30\n",
            "35\n",
            "40\n",
            "45\n",
            "50\n"
          ],
          "name": "stdout"
        }
      ]
    },
    {
      "cell_type": "markdown",
      "metadata": {
        "id": "QJRUgG-lb3we"
      },
      "source": [
        "Awsesome! Great job so far. Hope you fell in love with python now."
      ]
    },
    {
      "cell_type": "markdown",
      "metadata": {
        "id": "IrGMr3Mxb3wf"
      },
      "source": [
        "----------------------------------------------------------------------"
      ]
    },
    {
      "cell_type": "markdown",
      "metadata": {
        "id": "wqhUsWLLb3wg"
      },
      "source": [
        "# Smile, you completed the first milestone :)!! "
      ]
    },
    {
      "cell_type": "markdown",
      "metadata": {
        "id": "FwlJ8Doqb3wh"
      },
      "source": [
        "# Its Feedback Time!\n",
        "\n",
        "We hope you’ve enjoyed this course so far. We’re committed to help you use \"AI for All\" course to its full potential, so that you have a great learning experience. And that’s why we need your help in form of a feedback here.\n",
        "\n",
        "**Please fill this feedback form**\n",
        " https://zfrmz.in/MtRG5oWXBdesm6rmSM7N\n",
        " \n",
        "-------------------------------------\n",
        " "
      ]
    }
  ]
}